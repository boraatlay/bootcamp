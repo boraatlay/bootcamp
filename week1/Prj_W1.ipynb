{
 "cells": [
  {
   "cell_type": "code",
   "execution_count": 59,
   "id": "dcdb5753-52ad-4299-9aad-e183928da7a3",
   "metadata": {},
   "outputs": [],
   "source": [
    "import pandas as pd\n",
    "\n",
    "fert = pd.read_csv('gapminder_total_fertility.csv', index_col=0)\n",
    "life = pd.read_excel(\"./gapminder_lifeexpectancy.xlsx\", index_col=0)\n",
    "cont = pd.read_csv(\"./continents.csv\", sep=';')"
   ]
  },
  {
   "cell_type": "code",
   "execution_count": 2,
   "id": "f087a5c5-ea40-40bd-9cf8-aea5dab7f11a",
   "metadata": {},
   "outputs": [
    {
     "name": "stdout",
     "output_type": "stream",
     "text": [
      "(260, 217)\n"
     ]
    }
   ],
   "source": [
    "print(life.shape)"
   ]
  },
  {
   "cell_type": "code",
   "execution_count": 3,
   "id": "bdf6ebed-aa9f-4c73-9e60-3064ff04b2d2",
   "metadata": {},
   "outputs": [
    {
     "data": {
      "text/plain": [
       "Index(['1800', '1801', '1802', '1803', '1804', '1805', '1806', '1807', '1808',\n",
       "       '1809',\n",
       "       ...\n",
       "       '2006', '2007', '2008', '2009', '2010', '2011', '2012', '2013', '2014',\n",
       "       '2015'],\n",
       "      dtype='object', length=216)"
      ]
     },
     "execution_count": 3,
     "metadata": {},
     "output_type": "execute_result"
    }
   ],
   "source": [
    "fert.columns"
   ]
  },
  {
   "cell_type": "code",
   "execution_count": 4,
   "id": "81a89abd-87eb-4cbd-a4cb-6e9852e5c984",
   "metadata": {},
   "outputs": [
    {
     "data": {
      "text/plain": [
       "Int64Index([1800, 1801, 1802, 1803, 1804, 1805, 1806, 1807, 1808, 1809,\n",
       "            ...\n",
       "            2007, 2008, 2009, 2010, 2011, 2012, 2013, 2014, 2015, 2016],\n",
       "           dtype='int64', length=217)"
      ]
     },
     "execution_count": 4,
     "metadata": {},
     "output_type": "execute_result"
    }
   ],
   "source": [
    "life.columns"
   ]
  },
  {
   "cell_type": "code",
   "execution_count": 5,
   "id": "d5feae9b-9e35-4974-9bf9-45f88e21f615",
   "metadata": {},
   "outputs": [],
   "source": [
    "fert.columns = fert.columns.astype(int)"
   ]
  },
  {
   "cell_type": "code",
   "execution_count": 6,
   "id": "5edbec3a-fad6-4ab7-9313-39f63b12dcd1",
   "metadata": {},
   "outputs": [
    {
     "data": {
      "text/plain": [
       "Index(['Abkhazia', 'Afghanistan', 'Akrotiri and Dhekelia', 'Albania',\n",
       "       'Algeria', 'American Samoa', 'Andorra', 'Angola', 'Anguilla',\n",
       "       'Antigua and Barbuda',\n",
       "       ...\n",
       "       'Vietnam', 'Virgin Islands (U.S.)', 'North Yemen (former)',\n",
       "       'South Yemen (former)', 'Yemen', 'Yugoslavia', 'Zambia', 'Zimbabwe',\n",
       "       'Åland', 'Åland'],\n",
       "      dtype='object', name='Total fertility rate', length=260)"
      ]
     },
     "execution_count": 6,
     "metadata": {},
     "output_type": "execute_result"
    }
   ],
   "source": [
    "fert.index"
   ]
  },
  {
   "cell_type": "code",
   "execution_count": 7,
   "id": "e9427cac-608f-492a-83f6-1e938b07b66b",
   "metadata": {},
   "outputs": [],
   "source": [
    "fert.index.name = 'country'\n",
    "life.index.name = 'country'"
   ]
  },
  {
   "cell_type": "code",
   "execution_count": 8,
   "id": "a512c7c8-b9f9-4c7a-8b66-0eda2f7b6bcb",
   "metadata": {},
   "outputs": [],
   "source": [
    "fert = fert.reset_index()\n",
    "life = life.reset_index()"
   ]
  },
  {
   "cell_type": "code",
   "execution_count": 9,
   "id": "289ec0ac-fac2-448f-af5a-45fb302193b9",
   "metadata": {},
   "outputs": [],
   "source": [
    "fert = fert.melt(id_vars='country', var_name='year', value_name='fertility_rate')"
   ]
  },
  {
   "cell_type": "code",
   "execution_count": 10,
   "id": "1b80aff3-1205-4c58-a90a-12dff76eaf31",
   "metadata": {},
   "outputs": [],
   "source": [
    "life = life.melt(id_vars='country', var_name='year', value_name='life_expectancy')"
   ]
  },
  {
   "cell_type": "code",
   "execution_count": 11,
   "id": "e95d0c96-712a-4d90-b8e3-e8fb176b3c0d",
   "metadata": {},
   "outputs": [],
   "source": [
    "pop = pd.read_excel(\"gapminder_population.xlsx\", index_col=0)"
   ]
  },
  {
   "cell_type": "code",
   "execution_count": 24,
   "id": "5e59e7b1-b4b0-443f-94e5-4c6c21dac712",
   "metadata": {},
   "outputs": [],
   "source": [
    "#del pop['Unnamed: 81']"
   ]
  },
  {
   "cell_type": "code",
   "execution_count": 25,
   "id": "cfcffc99-467f-4580-b23a-7035db5a16fe",
   "metadata": {},
   "outputs": [],
   "source": [
    "pop.index.name = 'country'\n",
    "pop = pop.reset_index()"
   ]
  },
  {
   "cell_type": "code",
   "execution_count": 26,
   "id": "30f08878-03a2-44f7-9152-381aba181b00",
   "metadata": {},
   "outputs": [],
   "source": [
    "pop = pop.melt(id_vars='country', var_name='year', value_name='population')"
   ]
  },
  {
   "cell_type": "code",
   "execution_count": 60,
   "id": "420c9afa-05bc-4743-8dc1-509a7f5beda1",
   "metadata": {},
   "outputs": [
    {
     "data": {
      "text/plain": [
       "Index(['continent', 'country'], dtype='object')"
      ]
     },
     "execution_count": 60,
     "metadata": {},
     "output_type": "execute_result"
    }
   ],
   "source": [
    "cont.columns"
   ]
  },
  {
   "cell_type": "code",
   "execution_count": 73,
   "id": "64e3a830-ccfa-42be-bc54-d6bc8ab0d35b",
   "metadata": {},
   "outputs": [],
   "source": [
    "le_tf_gif = './{}.png'.format(1984)"
   ]
  },
  {
   "cell_type": "code",
   "execution_count": 74,
   "id": "e8efc220-879e-4970-896e-fa5043a3934e",
   "metadata": {},
   "outputs": [
    {
     "data": {
      "text/plain": [
       "'./1984.png'"
      ]
     },
     "execution_count": 74,
     "metadata": {},
     "output_type": "execute_result"
    }
   ],
   "source": [
    "le_tf_gif"
   ]
  },
  {
   "cell_type": "code",
   "execution_count": 33,
   "id": "f1a1c993-60c1-428a-97e1-1ac7657f3604",
   "metadata": {},
   "outputs": [],
   "source": [
    "df_pf = fert.merge(pop)"
   ]
  },
  {
   "cell_type": "code",
   "execution_count": 34,
   "id": "fb00b0cd-44b3-41a2-965f-2de66e1f2dd0",
   "metadata": {},
   "outputs": [
    {
     "data": {
      "text/html": [
       "<div>\n",
       "<style scoped>\n",
       "    .dataframe tbody tr th:only-of-type {\n",
       "        vertical-align: middle;\n",
       "    }\n",
       "\n",
       "    .dataframe tbody tr th {\n",
       "        vertical-align: top;\n",
       "    }\n",
       "\n",
       "    .dataframe thead th {\n",
       "        text-align: right;\n",
       "    }\n",
       "</style>\n",
       "<table border=\"1\" class=\"dataframe\">\n",
       "  <thead>\n",
       "    <tr style=\"text-align: right;\">\n",
       "      <th></th>\n",
       "      <th>country</th>\n",
       "      <th>year</th>\n",
       "      <th>fertility_rate</th>\n",
       "      <th>population</th>\n",
       "    </tr>\n",
       "  </thead>\n",
       "  <tbody>\n",
       "    <tr>\n",
       "      <th>0</th>\n",
       "      <td>Abkhazia</td>\n",
       "      <td>1800</td>\n",
       "      <td>NaN</td>\n",
       "      <td>NaN</td>\n",
       "    </tr>\n",
       "    <tr>\n",
       "      <th>1</th>\n",
       "      <td>Afghanistan</td>\n",
       "      <td>1800</td>\n",
       "      <td>7.00</td>\n",
       "      <td>3280000.0</td>\n",
       "    </tr>\n",
       "    <tr>\n",
       "      <th>2</th>\n",
       "      <td>Akrotiri and Dhekelia</td>\n",
       "      <td>1800</td>\n",
       "      <td>NaN</td>\n",
       "      <td>NaN</td>\n",
       "    </tr>\n",
       "    <tr>\n",
       "      <th>3</th>\n",
       "      <td>Albania</td>\n",
       "      <td>1800</td>\n",
       "      <td>4.60</td>\n",
       "      <td>410445.0</td>\n",
       "    </tr>\n",
       "    <tr>\n",
       "      <th>4</th>\n",
       "      <td>Algeria</td>\n",
       "      <td>1800</td>\n",
       "      <td>6.99</td>\n",
       "      <td>2503218.0</td>\n",
       "    </tr>\n",
       "    <tr>\n",
       "      <th>...</th>\n",
       "      <td>...</td>\n",
       "      <td>...</td>\n",
       "      <td>...</td>\n",
       "      <td>...</td>\n",
       "    </tr>\n",
       "    <tr>\n",
       "      <th>20974</th>\n",
       "      <td>Yugoslavia</td>\n",
       "      <td>2015</td>\n",
       "      <td>NaN</td>\n",
       "      <td>NaN</td>\n",
       "    </tr>\n",
       "    <tr>\n",
       "      <th>20975</th>\n",
       "      <td>Zambia</td>\n",
       "      <td>2015</td>\n",
       "      <td>5.59</td>\n",
       "      <td>16211767.0</td>\n",
       "    </tr>\n",
       "    <tr>\n",
       "      <th>20976</th>\n",
       "      <td>Zimbabwe</td>\n",
       "      <td>2015</td>\n",
       "      <td>3.35</td>\n",
       "      <td>15602751.0</td>\n",
       "    </tr>\n",
       "    <tr>\n",
       "      <th>20977</th>\n",
       "      <td>Åland</td>\n",
       "      <td>2015</td>\n",
       "      <td>NaN</td>\n",
       "      <td>NaN</td>\n",
       "    </tr>\n",
       "    <tr>\n",
       "      <th>20978</th>\n",
       "      <td>Åland</td>\n",
       "      <td>2015</td>\n",
       "      <td>NaN</td>\n",
       "      <td>NaN</td>\n",
       "    </tr>\n",
       "  </tbody>\n",
       "</table>\n",
       "<p>20979 rows × 4 columns</p>\n",
       "</div>"
      ],
      "text/plain": [
       "                     country  year  fertility_rate  population\n",
       "0                   Abkhazia  1800             NaN         NaN\n",
       "1                Afghanistan  1800            7.00   3280000.0\n",
       "2      Akrotiri and Dhekelia  1800             NaN         NaN\n",
       "3                    Albania  1800            4.60    410445.0\n",
       "4                    Algeria  1800            6.99   2503218.0\n",
       "...                      ...   ...             ...         ...\n",
       "20974             Yugoslavia  2015             NaN         NaN\n",
       "20975                 Zambia  2015            5.59  16211767.0\n",
       "20976               Zimbabwe  2015            3.35  15602751.0\n",
       "20977                  Åland  2015             NaN         NaN\n",
       "20978                  Åland  2015             NaN         NaN\n",
       "\n",
       "[20979 rows x 4 columns]"
      ]
     },
     "execution_count": 34,
     "metadata": {},
     "output_type": "execute_result"
    }
   ],
   "source": [
    "df_pf"
   ]
  },
  {
   "cell_type": "code",
   "execution_count": 36,
   "id": "1b08b41c-7f74-4dc4-b51e-2e44532251d6",
   "metadata": {},
   "outputs": [],
   "source": [
    "df_plf = df_pf.merge(life)"
   ]
  },
  {
   "cell_type": "code",
   "execution_count": 61,
   "id": "ab2d6e01-8659-4b38-b7db-547f98ea0340",
   "metadata": {},
   "outputs": [],
   "source": [
    "df_plfc = df_plf.merge(cont)"
   ]
  },
  {
   "cell_type": "code",
   "execution_count": 38,
   "id": "1abaabd6-9747-4390-a2ed-e3d9daacf214",
   "metadata": {},
   "outputs": [],
   "source": [
    "import seaborn as sns\n",
    "import matplotlib.pyplot as plt"
   ]
  },
  {
   "cell_type": "code",
   "execution_count": 39,
   "id": "b2a52908-073c-4ad2-97f4-96188ea71523",
   "metadata": {},
   "outputs": [],
   "source": [
    "df_scandinavia = df_plf.loc[df_plf['country'].isin(['Norway', 'Sweden', 'Denmark'])]"
   ]
  },
  {
   "cell_type": "code",
   "execution_count": 40,
   "id": "c9b6e4b2-0518-4d7c-b27f-669001ca90de",
   "metadata": {},
   "outputs": [
    {
     "data": {
      "text/html": [
       "<div>\n",
       "<style scoped>\n",
       "    .dataframe tbody tr th:only-of-type {\n",
       "        vertical-align: middle;\n",
       "    }\n",
       "\n",
       "    .dataframe tbody tr th {\n",
       "        vertical-align: top;\n",
       "    }\n",
       "\n",
       "    .dataframe thead th {\n",
       "        text-align: right;\n",
       "    }\n",
       "</style>\n",
       "<table border=\"1\" class=\"dataframe\">\n",
       "  <thead>\n",
       "    <tr style=\"text-align: right;\">\n",
       "      <th></th>\n",
       "      <th>country</th>\n",
       "      <th>year</th>\n",
       "      <th>fertility_rate</th>\n",
       "      <th>population</th>\n",
       "      <th>life_expectancy</th>\n",
       "    </tr>\n",
       "  </thead>\n",
       "  <tbody>\n",
       "    <tr>\n",
       "      <th>59</th>\n",
       "      <td>Denmark</td>\n",
       "      <td>1800</td>\n",
       "      <td>4.04</td>\n",
       "      <td>1062514.0</td>\n",
       "      <td>37.41</td>\n",
       "    </tr>\n",
       "    <tr>\n",
       "      <th>168</th>\n",
       "      <td>Norway</td>\n",
       "      <td>1800</td>\n",
       "      <td>4.32</td>\n",
       "      <td>868570.0</td>\n",
       "      <td>37.92</td>\n",
       "    </tr>\n",
       "    <tr>\n",
       "      <th>217</th>\n",
       "      <td>Sweden</td>\n",
       "      <td>1800</td>\n",
       "      <td>4.07</td>\n",
       "      <td>2354189.0</td>\n",
       "      <td>32.16</td>\n",
       "    </tr>\n",
       "    <tr>\n",
       "      <th>318</th>\n",
       "      <td>Denmark</td>\n",
       "      <td>1810</td>\n",
       "      <td>4.09</td>\n",
       "      <td>1108146.0</td>\n",
       "      <td>41.71</td>\n",
       "    </tr>\n",
       "    <tr>\n",
       "      <th>427</th>\n",
       "      <td>Norway</td>\n",
       "      <td>1810</td>\n",
       "      <td>3.87</td>\n",
       "      <td>918398.0</td>\n",
       "      <td>36.48</td>\n",
       "    </tr>\n",
       "    <tr>\n",
       "      <th>...</th>\n",
       "      <td>...</td>\n",
       "      <td>...</td>\n",
       "      <td>...</td>\n",
       "      <td>...</td>\n",
       "      <td>...</td>\n",
       "    </tr>\n",
       "    <tr>\n",
       "      <th>20629</th>\n",
       "      <td>Norway</td>\n",
       "      <td>2014</td>\n",
       "      <td>1.93</td>\n",
       "      <td>5147970.0</td>\n",
       "      <td>82.00</td>\n",
       "    </tr>\n",
       "    <tr>\n",
       "      <th>20678</th>\n",
       "      <td>Sweden</td>\n",
       "      <td>2014</td>\n",
       "      <td>1.93</td>\n",
       "      <td>9703247.0</td>\n",
       "      <td>82.10</td>\n",
       "    </tr>\n",
       "    <tr>\n",
       "      <th>20779</th>\n",
       "      <td>Denmark</td>\n",
       "      <td>2015</td>\n",
       "      <td>1.89</td>\n",
       "      <td>5669081.0</td>\n",
       "      <td>80.40</td>\n",
       "    </tr>\n",
       "    <tr>\n",
       "      <th>20888</th>\n",
       "      <td>Norway</td>\n",
       "      <td>2015</td>\n",
       "      <td>1.93</td>\n",
       "      <td>5210967.0</td>\n",
       "      <td>82.00</td>\n",
       "    </tr>\n",
       "    <tr>\n",
       "      <th>20937</th>\n",
       "      <td>Sweden</td>\n",
       "      <td>2015</td>\n",
       "      <td>1.93</td>\n",
       "      <td>9779426.0</td>\n",
       "      <td>82.10</td>\n",
       "    </tr>\n",
       "  </tbody>\n",
       "</table>\n",
       "<p>243 rows × 5 columns</p>\n",
       "</div>"
      ],
      "text/plain": [
       "       country  year  fertility_rate  population  life_expectancy\n",
       "59     Denmark  1800            4.04   1062514.0            37.41\n",
       "168     Norway  1800            4.32    868570.0            37.92\n",
       "217     Sweden  1800            4.07   2354189.0            32.16\n",
       "318    Denmark  1810            4.09   1108146.0            41.71\n",
       "427     Norway  1810            3.87    918398.0            36.48\n",
       "...        ...   ...             ...         ...              ...\n",
       "20629   Norway  2014            1.93   5147970.0            82.00\n",
       "20678   Sweden  2014            1.93   9703247.0            82.10\n",
       "20779  Denmark  2015            1.89   5669081.0            80.40\n",
       "20888   Norway  2015            1.93   5210967.0            82.00\n",
       "20937   Sweden  2015            1.93   9779426.0            82.10\n",
       "\n",
       "[243 rows x 5 columns]"
      ]
     },
     "execution_count": 40,
     "metadata": {},
     "output_type": "execute_result"
    }
   ],
   "source": [
    "df_scandinavia"
   ]
  },
  {
   "cell_type": "code",
   "execution_count": 41,
   "id": "2f74f059-7908-4380-8d44-31dd890300b0",
   "metadata": {},
   "outputs": [
    {
     "data": {
      "text/plain": [
       "<AxesSubplot:xlabel='year', ylabel='life_expectancy'>"
      ]
     },
     "execution_count": 41,
     "metadata": {},
     "output_type": "execute_result"
    },
    {
     "data": {
      "image/png": "[encoded data removed]",
      "text/plain": [
       "<Figure size 432x288 with 1 Axes>"
      ]
     },
     "metadata": {
      "needs_background": "light"
     },
     "output_type": "display_data"
    }
   ],
   "source": [
    "sns.scatterplot(x='year', y='life_expectancy', hue='country',\n",
    "            data=df_scandinavia, alpha=0.6)"
   ]
  },
  {
   "cell_type": "code",
   "execution_count": 85,
   "id": "985ee768-8f3f-4c97-a313-2fc315511f34",
   "metadata": {},
   "outputs": [],
   "source": [
    "#yr_list = df[df_plf[\"year\"].unique()"
   ]
  },
  {
   "cell_type": "code",
   "execution_count": 84,
   "id": "59bfd315-dc9a-44e0-927c-51cd2a7b90fc",
   "metadata": {},
   "outputs": [],
   "source": [
    "#yr_list"
   ]
  },
  {
   "cell_type": "code",
   "execution_count": 82,
   "id": "f5216a31-4c0a-438a-b6f9-65c9fcb719cc",
   "metadata": {},
   "outputs": [],
   "source": [
    "#co_list = df_plf[\"country\"].unique()"
   ]
  },
  {
   "cell_type": "code",
   "execution_count": 83,
   "id": "6d0d32fd-2d69-4439-a8e5-d5e3c5e34fac",
   "metadata": {},
   "outputs": [],
   "source": [
    "#co_list"
   ]
  },
  {
   "cell_type": "code",
   "execution_count": 87,
   "id": "2f2826a5-e30f-47f5-a5f8-8442b88c9250",
   "metadata": {},
   "outputs": [
    {
     "data": {
      "text/html": [
       "<div>\n",
       "<style scoped>\n",
       "    .dataframe tbody tr th:only-of-type {\n",
       "        vertical-align: middle;\n",
       "    }\n",
       "\n",
       "    .dataframe tbody tr th {\n",
       "        vertical-align: top;\n",
       "    }\n",
       "\n",
       "    .dataframe thead th {\n",
       "        text-align: right;\n",
       "    }\n",
       "</style>\n",
       "<table border=\"1\" class=\"dataframe\">\n",
       "  <thead>\n",
       "    <tr style=\"text-align: right;\">\n",
       "      <th></th>\n",
       "      <th>country</th>\n",
       "      <th>year</th>\n",
       "      <th>fertility_rate</th>\n",
       "      <th>population</th>\n",
       "      <th>life_expectancy</th>\n",
       "    </tr>\n",
       "  </thead>\n",
       "  <tbody>\n",
       "    <tr>\n",
       "      <th>59</th>\n",
       "      <td>Denmark</td>\n",
       "      <td>1800</td>\n",
       "      <td>4.04</td>\n",
       "      <td>1062514.0</td>\n",
       "      <td>37.41</td>\n",
       "    </tr>\n",
       "    <tr>\n",
       "      <th>168</th>\n",
       "      <td>Norway</td>\n",
       "      <td>1800</td>\n",
       "      <td>4.32</td>\n",
       "      <td>868570.0</td>\n",
       "      <td>37.92</td>\n",
       "    </tr>\n",
       "    <tr>\n",
       "      <th>217</th>\n",
       "      <td>Sweden</td>\n",
       "      <td>1800</td>\n",
       "      <td>4.07</td>\n",
       "      <td>2354189.0</td>\n",
       "      <td>32.16</td>\n",
       "    </tr>\n",
       "  </tbody>\n",
       "</table>\n",
       "</div>"
      ],
      "text/plain": [
       "     country  year  fertility_rate  population  life_expectancy\n",
       "59   Denmark  1800            4.04   1062514.0            37.41\n",
       "168   Norway  1800            4.32    868570.0            37.92\n",
       "217   Sweden  1800            4.07   2354189.0            32.16"
      ]
     },
     "execution_count": 87,
     "metadata": {},
     "output_type": "execute_result"
    }
   ],
   "source": [
    "df_scandinavia[df_scandinavia['year']==1800]"
   ]
  },
  {
   "cell_type": "code",
   "execution_count": 86,
   "id": "6978e52e-cbb0-44fa-b1a6-2d4149cc1412",
   "metadata": {},
   "outputs": [],
   "source": [
    "#df_plfc"
   ]
  },
  {
   "cell_type": "code",
   "execution_count": 72,
   "id": "28b93a6f-833e-493c-a7e5-060c83fd8545",
   "metadata": {},
   "outputs": [],
   "source": [
    "for y in range(1960,2015):     \n",
    "    df_tmp_y = df_plfc.loc[df_plfc['year']==y]\n",
    "    sns.scatterplot(x='fertility_rate', y='life_expectancy', hue='continent', size='population', data=df_tmp_y, alpha=0.6)\n",
    "    str_year = str(y)\n",
    "    plt.savefig('./{}.png'.format(str_year))\n",
    "    plt.close()"
   ]
  },
  {
   "cell_type": "code",
   "execution_count": 76,
   "id": "cf38a117-b44a-434e-bb0d-361b8c689b01",
   "metadata": {},
   "outputs": [],
   "source": [
    "import imageio"
   ]
  },
  {
   "cell_type": "code",
   "execution_count": 81,
   "id": "c0cef455-71be-4ae6-b8ae-e9b98ab82723",
   "metadata": {},
   "outputs": [],
   "source": [
    "le_tf_list = []\n",
    "\n",
    "for y in range(1960,2015):\n",
    "    str_year = str(y)\n",
    "    png_per_annum = './{}.png'.format(str_year)\n",
    "    le_tf_list.append(imageio.imread(png_per_annum))\n",
    "    \n",
    "#print(le_tf_list)\n",
    "\n",
    "imageio.mimsave('./final.gif', le_tf_list, fps=10)"
   ]
  },
  {
   "cell_type": "code",
   "execution_count": null,
   "id": "c8478105-74a2-48ef-8b7f-6d443bdf7028",
   "metadata": {},
   "outputs": [],
   "source": []
  }
 ],
 "metadata": {
  "kernelspec": {
   "display_name": "Python 3",
   "language": "python",
   "name": "python3"
  },
  "language_info": {
   "codemirror_mode": {
    "name": "ipython",
    "version": 3
   },
   "file_extension": ".py",
   "mimetype": "text/x-python",
   "name": "python",
   "nbconvert_exporter": "python",
   "pygments_lexer": "ipython3",
   "version": "3.7.10"
  }
 },
 "nbformat": 4,
 "nbformat_minor": 5
}
