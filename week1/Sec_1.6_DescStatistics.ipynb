{
 "cells": [
  {
   "cell_type": "code",
   "execution_count": 14,
   "metadata": {},
   "outputs": [],
   "source": [
    "import math\n",
    "\n",
    "import numpy as np\n",
    "import pandas as pd\n",
    "import matplotlib.pyplot as plt\n",
    "import seaborn as sns\n",
    "\n",
    "%matplotlib inline"
   ]
  },
  {
   "cell_type": "code",
   "execution_count": 15,
   "metadata": {},
   "outputs": [],
   "source": [
    "# 1. read the file into pandas\n",
    "import pandas as pd\n",
    "\n",
    "df = pd.read_excel('gapminder_lifeexpectancy.xlsx', index_col=0)\n",
    "life = df[1960].dropna()"
   ]
  },
  {
   "cell_type": "code",
   "execution_count": 34,
   "metadata": {},
   "outputs": [
    {
     "name": "stdout",
     "output_type": "stream",
     "text": [
      "54.73282178217823\n",
      "56.185\n",
      "11.689637178760742\n",
      "136.64761737106542\n",
      "74.22\n",
      "29.61\n",
      "69.707\n",
      "202\n",
      "count    202.000000\n",
      "mean      54.732822\n",
      "std       11.689637\n",
      "min       29.610000\n",
      "25%       45.075000\n",
      "50%       56.185000\n",
      "75%       64.742500\n",
      "max       74.220000\n",
      "Name: 1960, dtype: float64\n"
     ]
    }
   ],
   "source": [
    "\n",
    "\n",
    "# 2. calculate the mean life expectancy\n",
    "print(life.mean())\n",
    "\n",
    "# 3. calculate the median\n",
    "print(life.median())\n",
    "\n",
    "# 4. calculate the standard deviation\n",
    "print(life.std())\n",
    "\n",
    "# 5. calculate the variance\n",
    "print(life.var())\n",
    "\n",
    "# 6. find the highest life expectancy\n",
    "print(life.max())\n",
    "\n",
    "# 7. find the lowest life expectancy\n",
    "print(life.min())\n",
    "\n",
    "# 8. find the 90% quantile\n",
    "print(life.quantile(0.9))\n",
    "\n",
    "# 9. store the number of data points in a variable\n",
    "print(life.count())\n",
    "\n",
    "# 10. calculate min, max, mean and range (and possibly other descriptors) with a single line\n",
    "print(life.describe())"
   ]
  },
  {
   "cell_type": "code",
   "execution_count": null,
   "metadata": {},
   "outputs": [],
   "source": []
  }
 ],
 "metadata": {
  "kernelspec": {
   "display_name": "Python 3",
   "language": "python",
   "name": "python3"
  },
  "language_info": {
   "codemirror_mode": {
    "name": "ipython",
    "version": 3
   },
   "file_extension": ".py",
   "mimetype": "text/x-python",
   "name": "python",
   "nbconvert_exporter": "python",
   "pygments_lexer": "ipython3",
   "version": "3.7.6"
  }
 },
 "nbformat": 4,
 "nbformat_minor": 4
}
