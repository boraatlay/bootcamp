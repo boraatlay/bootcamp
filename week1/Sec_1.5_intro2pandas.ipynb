{
 "cells": [
  {
   "cell_type": "code",
   "execution_count": 1,
   "id": "aca14e57-f5a2-4864-b428-0ceebfc14440",
   "metadata": {},
   "outputs": [
    {
     "name": "stderr",
     "output_type": "stream",
     "text": [
      "Matplotlib is building the font cache; this may take a moment.\n"
     ]
    }
   ],
   "source": [
    "import math\n",
    "\n",
    "import numpy as np\n",
    "import pandas as pd\n",
    "import matplotlib.pyplot as plt\n",
    "import seaborn as sns\n",
    "\n",
    "%matplotlib inline"
   ]
  },
  {
   "cell_type": "code",
   "execution_count": 25,
   "id": "d0d05950-fade-4ff3-bcd4-af34cb427118",
   "metadata": {},
   "outputs": [],
   "source": [
    "df_large_contries = pd.read_csv(\"large_countries_2015.csv\", index_col=0)"
   ]
  },
  {
   "cell_type": "code",
   "execution_count": null,
   "id": "d7be82bb-43ce-4876-b36c-1b9249673bf4",
   "metadata": {},
   "outputs": [],
   "source": []
  },
  {
   "cell_type": "code",
   "execution_count": 26,
   "id": "207d1a7c-c1d0-4400-b3ea-19f5c5ab3082",
   "metadata": {},
   "outputs": [],
   "source": [
    "### Fix 5 Bugs"
   ]
  },
  {
   "cell_type": "code",
   "execution_count": 24,
   "id": "8022b76b-2860-4567-92d2-adce89c4dc59",
   "metadata": {},
   "outputs": [
    {
     "name": "stdout",
     "output_type": "stream",
     "text": [
      "(6, 2)\n",
      "                          name  participants\n",
      "2  Tensor ThymeLinear Lavender             9\n",
      "3     Artificial Neural Nutmeg             9\n",
      "4        Polynomial Peppermint             9\n",
      "5              Sigmoid Saffron             8\n",
      "1               Bayesian Basil             6\n",
      "0        One-Hot Chili Peppers             2\n",
      "\n",
      "total participants: 43\n"
     ]
    }
   ],
   "source": [
    "import pandas\n",
    "\n",
    "spices = ['One-Hot Chili Peppers',\n",
    "          'Bayesian Basil',\n",
    "          'Tensor Thyme'\n",
    "          'Linear Lavender',\n",
    "          'Artificial Neural Nutmeg',\n",
    "          'Polynomial Peppermint',\n",
    "          'Sigmoid Saffron'\n",
    "          ]\n",
    "participants = [2, 6, 9, 9, 9, 8]\n",
    "\n",
    "df = pd.DataFrame({'name': spices,\n",
    "                   'participants': participants\n",
    "                   })\n",
    "\n",
    "# print(df.shape)\n",
    "# print(df)\n",
    "\n",
    "print(df.sort_values(by='participants', ascending=False)) \n",
    "\n",
    "# print(\"\\ntotal participants:\", df.sum(['participants'])) # Bugy line. Solved in the next line.\n",
    "print(\"\\ntotal participants:\", sum(df.participants))\n",
    "\n",
    "###\n",
    "### I'm not sure what the 5 bugs should be really.\n",
    "### But here is the code where each line is finely\n",
    "### working.\n",
    "###"
   ]
  },
  {
   "cell_type": "code",
   "execution_count": 27,
   "id": "6536066e-d8d7-449d-b118-9672e63071bc",
   "metadata": {},
   "outputs": [],
   "source": [
    "### Solve with One-Liners"
   ]
  },
  {
   "cell_type": "code",
   "execution_count": 56,
   "id": "0d0c527c-a830-4d1c-b36e-9e7ec0a42372",
   "metadata": {},
   "outputs": [
    {
     "data": {
      "text/html": [
       "<div>\n",
       "<style scoped>\n",
       "    .dataframe tbody tr th:only-of-type {\n",
       "        vertical-align: middle;\n",
       "    }\n",
       "\n",
       "    .dataframe tbody tr th {\n",
       "        vertical-align: top;\n",
       "    }\n",
       "\n",
       "    .dataframe thead th {\n",
       "        text-align: right;\n",
       "    }\n",
       "</style>\n",
       "<table border=\"1\" class=\"dataframe\">\n",
       "  <thead>\n",
       "    <tr style=\"text-align: right;\">\n",
       "      <th></th>\n",
       "      <th>continent</th>\n",
       "      <th>country</th>\n",
       "    </tr>\n",
       "  </thead>\n",
       "  <tbody>\n",
       "    <tr>\n",
       "      <th>0</th>\n",
       "      <td>Africa</td>\n",
       "      <td>Algeria</td>\n",
       "    </tr>\n",
       "    <tr>\n",
       "      <th>2</th>\n",
       "      <td>Africa</td>\n",
       "      <td>Benin</td>\n",
       "    </tr>\n",
       "    <tr>\n",
       "      <th>4</th>\n",
       "      <td>Africa</td>\n",
       "      <td>Burkina</td>\n",
       "    </tr>\n",
       "    <tr>\n",
       "      <th>6</th>\n",
       "      <td>Africa</td>\n",
       "      <td>Cameroon</td>\n",
       "    </tr>\n",
       "    <tr>\n",
       "      <th>8</th>\n",
       "      <td>Africa</td>\n",
       "      <td>Central African Republic</td>\n",
       "    </tr>\n",
       "    <tr>\n",
       "      <th>...</th>\n",
       "      <td>...</td>\n",
       "      <td>...</td>\n",
       "    </tr>\n",
       "    <tr>\n",
       "      <th>184</th>\n",
       "      <td>South America</td>\n",
       "      <td>Brazil</td>\n",
       "    </tr>\n",
       "    <tr>\n",
       "      <th>186</th>\n",
       "      <td>South America</td>\n",
       "      <td>Colombia</td>\n",
       "    </tr>\n",
       "    <tr>\n",
       "      <th>188</th>\n",
       "      <td>South America</td>\n",
       "      <td>Guyana</td>\n",
       "    </tr>\n",
       "    <tr>\n",
       "      <th>190</th>\n",
       "      <td>South America</td>\n",
       "      <td>Peru</td>\n",
       "    </tr>\n",
       "    <tr>\n",
       "      <th>192</th>\n",
       "      <td>South America</td>\n",
       "      <td>Uruguay</td>\n",
       "    </tr>\n",
       "  </tbody>\n",
       "</table>\n",
       "<p>97 rows × 2 columns</p>\n",
       "</div>"
      ],
      "text/plain": [
       "         continent                   country\n",
       "0           Africa                   Algeria\n",
       "2           Africa                     Benin\n",
       "4           Africa                   Burkina\n",
       "6           Africa                  Cameroon\n",
       "8           Africa  Central African Republic\n",
       "..             ...                       ...\n",
       "184  South America                    Brazil\n",
       "186  South America                  Colombia\n",
       "188  South America                    Guyana\n",
       "190  South America                      Peru\n",
       "192  South America                   Uruguay\n",
       "\n",
       "[97 rows x 2 columns]"
      ]
     },
     "execution_count": 56,
     "metadata": {},
     "output_type": "execute_result"
    }
   ],
   "source": [
    "# 1. read the file into a DataFrame\n",
    "df_continents = pd.read_csv(\"continents.csv\", sep=\";\")\n",
    "\n",
    "# 2. display the number of rows and columns\n",
    "#df_continents.shape\n",
    "\n",
    "# 3. display the first 5 countries in the alphabet\n",
    "#df_continents.sort_values(by='country', ascending=\"False\").head(5)\n",
    "\n",
    "# 4. which continent has the most countries?\n",
    "#print(df_continents.groupby(by='continent').count())\n",
    "\n",
    "# 5. find out on which continent Cyprus is\n",
    "# print(df_continents.continent[df_continents[\"country\"]==\"Cyprus\"])\n",
    "\n",
    "# 6. define a DataFrame with all African countries\n",
    "df_africa = df_continents[df_continents.continent==\"Africa\"]\n",
    "\n",
    "# 7. define a DataFrame with countries 80 through 100\n",
    "df_subset = df_continents.iloc[80:101,:]\n",
    "\n",
    "# 8. select every second country\n",
    "df_continents.iloc[::2,:]"
   ]
  },
  {
   "cell_type": "code",
   "execution_count": null,
   "id": "12519b99-421b-4441-865b-6d3a7c294e6b",
   "metadata": {},
   "outputs": [],
   "source": []
  }
 ],
 "metadata": {
  "kernelspec": {
   "display_name": "Python 3",
   "language": "python",
   "name": "python3"
  },
  "language_info": {
   "codemirror_mode": {
    "name": "ipython",
    "version": 3
   },
   "file_extension": ".py",
   "mimetype": "text/x-python",
   "name": "python",
   "nbconvert_exporter": "python",
   "pygments_lexer": "ipython3",
   "version": "3.7.10"
  }
 },
 "nbformat": 4,
 "nbformat_minor": 5
}
