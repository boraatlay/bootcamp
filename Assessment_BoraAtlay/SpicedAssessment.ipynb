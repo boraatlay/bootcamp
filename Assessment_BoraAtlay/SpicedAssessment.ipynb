{
 "cells": [
  {
   "cell_type": "code",
   "execution_count": 1,
   "metadata": {},
   "outputs": [],
   "source": [
    "import math\n",
    "\n",
    "import pandas as pd\n",
    "import numpy as np\n",
    "import matplotlib.pyplot as plt\n",
    "\n",
    "%matplotlib inline"
   ]
  },
  {
   "cell_type": "markdown",
   "metadata": {},
   "source": [
    "## TASK 1"
   ]
  },
  {
   "cell_type": "code",
   "execution_count": 2,
   "metadata": {},
   "outputs": [],
   "source": [
    "xydata = pd.read_csv('/Users/naimboraatlay/Desktop/DataScience/SpicedBootCamp/assessment/datapoints.csv')"
   ]
  },
  {
   "cell_type": "code",
   "execution_count": 3,
   "metadata": {},
   "outputs": [],
   "source": [
    "#xydata"
   ]
  },
  {
   "cell_type": "markdown",
   "metadata": {},
   "source": [
    "## TASK 2"
   ]
  },
  {
   "cell_type": "code",
   "execution_count": 4,
   "metadata": {
    "scrolled": true
   },
   "outputs": [
    {
     "data": {
      "text/plain": [
       "<matplotlib.collections.PathCollection at 0x7f9eb9e9ab50>"
      ]
     },
     "execution_count": 4,
     "metadata": {},
     "output_type": "execute_result"
    },
    {
     "data": {
      "image/png": "[encoded data removed]",
      "text/plain": [
       "<Figure size 432x288 with 1 Axes>"
      ]
     },
     "metadata": {
      "needs_background": "light"
     },
     "output_type": "display_data"
    }
   ],
   "source": [
    "x = xydata.x\n",
    "y = xydata.y\n",
    "\n",
    "plt.scatter(x,y)"
   ]
  },
  {
   "cell_type": "markdown",
   "metadata": {},
   "source": [
    "## All other tasks"
   ]
  },
  {
   "cell_type": "code",
   "execution_count": 8,
   "metadata": {},
   "outputs": [
    {
     "name": "stdout",
     "output_type": "stream",
     "text": [
      "Moin! This is a super simple linear model program with some default values of parameters. \n",
      "\n",
      "However you are free to vary the parameters of the model. Let's start. \n",
      "\n",
      "Do you want to vary any of the parameters? Insert 'yes' or 'no'.yes\n",
      "Which parameter do you want to vary? Insert 'a' or 'b'.a\n",
      "The slope has chosen to be varied.\n",
      "The minimum MSE reached by varying slope is: 0.71 with the slope value of 2.2\n"
     ]
    }
   ],
   "source": [
    "def CalcResSq(a, b, x, y):\n",
    "    \n",
    "    lm_y      = [1.] * len(x)   ### Predicted y values\n",
    "    res       = [1.] * len(x)   ### List of esiduals\n",
    "    res_quad  = [1.] * len(x)   ### List of quadratic residuals\n",
    "    \n",
    "    for i in range(len(x)):\n",
    "        lm_y[i] = a * x[i] + b\n",
    "        res[i] = (lm_y[i] - y[i])\n",
    "        res_quad[i] = (lm_y[i] - y[i])**2\n",
    "    \n",
    "    return res_quad\n",
    "\n",
    "print (\"Moin! This is a super simple linear model program with some default values of parameters. \\n\")\n",
    "print (\"However you are free to vary the parameters of the model. Let's start. \\n\")\n",
    "\n",
    "ParameterVariation = True\n",
    "ParameterSelection = True\n",
    "\n",
    "while ParameterVariation:\n",
    "    var = input(\"Do you want to vary any of the parameters? Insert 'yes' or 'no'.\")\n",
    "    if var.lower() == \"yes\" or var.lower() == \"no\":\n",
    "        ParameterVariation = False\n",
    "    else:\n",
    "        ParameterVariation = True\n",
    "        print(\"Please enter a valid option: yes or no\")  \n",
    "\n",
    "b_var = False\n",
    "par_a = False\n",
    "par_b = False\n",
    "\n",
    "if var.lower() == \"yes\":\n",
    "    b_var = True\n",
    "    \n",
    "    while ParameterSelection:\n",
    "        par = input(\"Which parameter do you want to vary? Insert 'a' or 'b'.\")\n",
    "        if par.lower() == \"a\" or par.lower() == \"b\":\n",
    "            ParameterSelection = False\n",
    "        else:\n",
    "            ParameterSelection = True\n",
    "            print(\"Please enter a valid option: 'a' or 'b' \")\n",
    "\n",
    "    if par.lower() == \"a\":\n",
    "        print(\"The slope has chosen to be varied.\")\n",
    "        par_a = True\n",
    "    if par.lower() == \"b\":\n",
    "        print(\"The offset has chosen to be varied.\")\n",
    "        par_b = True\n",
    "else:\n",
    "    b_var = False\n",
    "\n",
    "a = 10.0                    ### Initial value for the slope\n",
    "b = 0.                      ### Initial value for the offset\n",
    "\n",
    "var_size  = 0.1             ### Size of the step to vary a and b\n",
    "\n",
    "tmp_mse, tmp_a, tmp_b = 0.,0.,0.       ### Temporary minimums of MSE, a and b\n",
    "min_mse, min_a, min_b = 999.,999.,999.    ### Final minimums of MSE, a and b\n",
    "\n",
    "if b_var == False:\n",
    "    \n",
    "    res_quad = CalcResSq(a, b, x, y)\n",
    "\n",
    "    tmp_mse = sum(res_quad) / len(x)\n",
    "    \n",
    "    if tmp_mse < min_mse:\n",
    "        min_mse = tmp_mse\n",
    "        \n",
    "else:\n",
    "    \n",
    "    if par_a == True:\n",
    "        \n",
    "        for a in np.arange(10, 0, var_size*(-1)):\n",
    "\n",
    "            res_quad = CalcResSq(a, b, x, y)\n",
    "            \n",
    "            tmp_a = a\n",
    "            tmp_mse = sum(res_quad) / len(x)\n",
    "            \n",
    "            if tmp_mse < min_mse:\n",
    "                \n",
    "                min_mse = tmp_mse\n",
    "                min_a = tmp_a      \n",
    "                \n",
    "    if par_b == True:\n",
    "\n",
    "        for b in np.arange(0, 10, var_size):\n",
    "     \n",
    "            res_quad = CalcResSq(a, b, x, y)\n",
    "            \n",
    "            tmp_b = b\n",
    "            tmp_mse = sum(res_quad) / len(x)\n",
    "            \n",
    "            if tmp_mse < min_mse:\n",
    "                \n",
    "                min_mse = tmp_mse\n",
    "                min_b = tmp_b\n",
    "                \n",
    "if b_var == False:\n",
    "    print(f\"The minimum MSE reached is: {round(min_mse,2)}\")\n",
    "    print(\"Try varying parameters to see if you can reach a lower MSE.\")\n",
    "if par_a == True:\n",
    "    print(f\"The minimum MSE reached by varying slope is: {round(min_mse,2)} with the slope value of {round(min_a,2)}\")\n",
    "if par_b == True:\n",
    "    print(f\"The minimum MSE reached by varying offset is: {round(min_mse,2)} with the offset value of {round(min_b,2)}\")"
   ]
  },
  {
   "cell_type": "markdown",
   "metadata": {},
   "source": [
    "### How could the algorithm be improved?"
   ]
  },
  {
   "cell_type": "markdown",
   "metadata": {},
   "source": [
    "A couple of things can be considered to improve the algorithm:\n",
    "- varying a and b simulteanously\n",
    "- calculating the root mean square error rather than mean square error\n",
    "- last but not least, in the calculation of MSE the denominator can be changed by (n-1)"
   ]
  }
 ],
 "metadata": {
  "kernelspec": {
   "display_name": "Python 3",
   "language": "python",
   "name": "python3"
  },
  "language_info": {
   "codemirror_mode": {
    "name": "ipython",
    "version": 3
   },
   "file_extension": ".py",
   "mimetype": "text/x-python",
   "name": "python",
   "nbconvert_exporter": "python",
   "pygments_lexer": "ipython3",
   "version": "3.7.10"
  }
 },
 "nbformat": 4,
 "nbformat_minor": 4
}
