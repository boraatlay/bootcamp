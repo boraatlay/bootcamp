{
 "cells": [
  {
   "cell_type": "code",
   "execution_count": 68,
   "id": "3ea736ad",
   "metadata": {},
   "outputs": [],
   "source": [
    "### Importing essentials\n",
    "\n",
    "import pandas            as pd\n",
    "import numpy             as np\n",
    "import matplotlib.pyplot as plt\n",
    "import seaborn           as sns\n",
    "\n",
    "### Importing SciKit-Learn stuff\n",
    "\n",
    "from sklearn.model_selection import train_test_split, cross_val_score, validation_curve\n",
    "from sklearn.linear_model    import LinearRegression, Ridge, Lasso\n",
    "from sklearn.compose         import make_column_transformer\n",
    "from sklearn.pipeline        import make_pipeline\n",
    "from sklearn.preprocessing   import OneHotEncoder, StandardScaler, MinMaxScaler\n",
    "from sklearn.metrics         import classification_report, confusion_matrix, accuracy_score, r2_score, mean_squared_log_error"
   ]
  },
  {
   "cell_type": "code",
   "execution_count": 2,
   "id": "76323f0b",
   "metadata": {},
   "outputs": [],
   "source": [
    "df = pd.read_csv(\"../data/sampleSubmission.csv\")\n",
    "df_test = pd.read_csv(\"../data/test.csv\")\n",
    "df_train = pd.read_csv(\"../data/train.csv\")"
   ]
  },
  {
   "cell_type": "markdown",
   "id": "36136af8",
   "metadata": {},
   "source": [
    "### Items learned during the week and trained below analysing the Washington Bike Share data\n",
    "\n",
    "* $\\bf{models}$: linear reg., ridge reg., lasso reg.\n",
    "\n",
    "* $\\bf feature\\ engineering$: column_transformer, log transformation, polynomial features\n",
    "\n",
    "* $\\bf{metrics}$: $R^2$-score, RMSLE, \n",
    "\n",
    "* $\\bf{plotting}$: residual plots\n",
    "\n",
    "* $\\bf{misc}$: datetime conversion, extracting various time units from datetime(e.g. year, month, weekday, etc.)\n",
    "\n",
    "* $\\bf{Further \\ important \\ stuff}$ to be trained: Regularization, cross validation, gradient descent"
   ]
  },
  {
   "cell_type": "code",
   "execution_count": 3,
   "id": "c333f7ed",
   "metadata": {},
   "outputs": [],
   "source": [
    "#df_train.head()"
   ]
  },
  {
   "cell_type": "code",
   "execution_count": 4,
   "id": "7b0df88b",
   "metadata": {},
   "outputs": [],
   "source": [
    "dt = pd.to_datetime(df_train.datetime)"
   ]
  },
  {
   "cell_type": "code",
   "execution_count": 5,
   "id": "494740b4",
   "metadata": {},
   "outputs": [],
   "source": [
    "df_train['year'] = pd.DatetimeIndex(df_train['datetime']).year\n",
    "df_train['month'] = pd.DatetimeIndex(df_train['datetime']).month\n",
    "df_train['weekday'] = pd.to_datetime(df_train[\"datetime\"]).dt.strftime(\"%A\")\n",
    "df_train['hour'] = pd.to_datetime(df_train[\"datetime\"]).dt.hour"
   ]
  },
  {
   "cell_type": "code",
   "execution_count": 6,
   "id": "0946c73a",
   "metadata": {},
   "outputs": [],
   "source": [
    "#df_train.head()"
   ]
  },
  {
   "cell_type": "code",
   "execution_count": 7,
   "id": "b07d25d7",
   "metadata": {},
   "outputs": [],
   "source": [
    "df_train.drop(['casual', 'registered', 'datetime'], axis = 1, inplace= True)"
   ]
  },
  {
   "cell_type": "code",
   "execution_count": 8,
   "id": "24115fe3",
   "metadata": {
    "scrolled": false
   },
   "outputs": [],
   "source": [
    "#df_train.head()"
   ]
  },
  {
   "cell_type": "code",
   "execution_count": 9,
   "id": "87588975",
   "metadata": {},
   "outputs": [],
   "source": [
    "df_train['log_count'] = np.log1p(df_train['count'])"
   ]
  },
  {
   "cell_type": "code",
   "execution_count": 10,
   "id": "6fea52d3",
   "metadata": {},
   "outputs": [],
   "source": [
    "df_train.drop(['count'], axis = 1, inplace = True)"
   ]
  },
  {
   "cell_type": "code",
   "execution_count": 11,
   "id": "7a9dea7b",
   "metadata": {},
   "outputs": [],
   "source": [
    "#df_train.head()"
   ]
  },
  {
   "cell_type": "code",
   "execution_count": 12,
   "id": "afd10c50",
   "metadata": {},
   "outputs": [],
   "source": [
    "X = df_train.drop('log_count',axis = 1)\n",
    "y_log = df_train['log_count']"
   ]
  },
  {
   "cell_type": "code",
   "execution_count": 13,
   "id": "3eb639fd",
   "metadata": {},
   "outputs": [],
   "source": [
    "X_train, X_test, y_train_log, y_test_log = train_test_split(X, y_log, test_size = 0.25, random_state = 101)"
   ]
  },
  {
   "cell_type": "code",
   "execution_count": null,
   "id": "c27666d7",
   "metadata": {},
   "outputs": [],
   "source": []
  },
  {
   "cell_type": "code",
   "execution_count": null,
   "id": "fdaacb6b",
   "metadata": {},
   "outputs": [],
   "source": []
  },
  {
   "cell_type": "code",
   "execution_count": 14,
   "id": "3caf7ee8",
   "metadata": {},
   "outputs": [],
   "source": [
    "#sns.scatterplot(data=df_train, x=\"temp\", y=\"atemp\")\n",
    "ohe = OneHotEncoder(sparse=False, handle_unknown='ignore')\n",
    "stds = StandardScaler()"
   ]
  },
  {
   "cell_type": "code",
   "execution_count": 15,
   "id": "f6db9726",
   "metadata": {},
   "outputs": [],
   "source": [
    "ct = make_column_transformer(\n",
    "    (ohe, ['season', 'weather', 'year', 'month', 'weekday', 'hour']),\n",
    "    (stds, ['temp', 'atemp', 'humidity', 'windspeed']),\n",
    "    ('passthrough', ['holiday','workingday'])\n",
    ")"
   ]
  },
  {
   "cell_type": "code",
   "execution_count": 16,
   "id": "b359f7e1",
   "metadata": {},
   "outputs": [
    {
     "data": {
      "text/plain": [
       "ColumnTransformer(transformers=[('onehotencoder',\n",
       "                                 OneHotEncoder(handle_unknown='ignore',\n",
       "                                               sparse=False),\n",
       "                                 ['season', 'weather', 'year', 'month',\n",
       "                                  'weekday', 'hour']),\n",
       "                                ('standardscaler', StandardScaler(),\n",
       "                                 ['temp', 'atemp', 'humidity', 'windspeed']),\n",
       "                                ('passthrough', 'passthrough',\n",
       "                                 ['holiday', 'workingday'])])"
      ]
     },
     "execution_count": 16,
     "metadata": {},
     "output_type": "execute_result"
    }
   ],
   "source": [
    "ct.fit(X_train)"
   ]
  },
  {
   "cell_type": "code",
   "execution_count": 17,
   "id": "75db53e5",
   "metadata": {},
   "outputs": [],
   "source": [
    "X_train_tr = ct.transform(X_train)\n",
    "X_test_tr = ct.transform(X_test)"
   ]
  },
  {
   "cell_type": "code",
   "execution_count": 18,
   "id": "ea15058a",
   "metadata": {},
   "outputs": [],
   "source": [
    "#sns.pairplot(df_train)"
   ]
  },
  {
   "cell_type": "code",
   "execution_count": 19,
   "id": "0cc8ac4e",
   "metadata": {},
   "outputs": [],
   "source": [
    "#sns.scatterplot(data=df_train, x='temp', y='count')"
   ]
  },
  {
   "cell_type": "code",
   "execution_count": 20,
   "id": "695b1545",
   "metadata": {},
   "outputs": [],
   "source": [
    "#sns.scatterplot(data=df_train, x='windspeed', y='count')"
   ]
  },
  {
   "cell_type": "code",
   "execution_count": 33,
   "id": "02fbacfc",
   "metadata": {},
   "outputs": [],
   "source": [
    "lm_ridge = Ridge(alpha = 1)\n",
    "lm_lasso = Lasso(alpha = 000.1)"
   ]
  },
  {
   "cell_type": "code",
   "execution_count": 34,
   "id": "c80aef89",
   "metadata": {},
   "outputs": [
    {
     "data": {
      "text/plain": [
       "Lasso(alpha=0.1)"
      ]
     },
     "execution_count": 34,
     "metadata": {},
     "output_type": "execute_result"
    }
   ],
   "source": [
    "lm_ridge.fit(X_train_tr, y_train_log)\n",
    "lm_lasso.fit(X_train_tr, y_train_log)"
   ]
  },
  {
   "cell_type": "code",
   "execution_count": 35,
   "id": "64f63eab",
   "metadata": {},
   "outputs": [
    {
     "data": {
      "text/plain": [
       "0.23431934356761175"
      ]
     },
     "execution_count": 35,
     "metadata": {},
     "output_type": "execute_result"
    }
   ],
   "source": [
    "lm_ridge.score(X_train_tr, y_train_log)\n",
    "lm_lasso.score(X_train_tr, y_train_log)"
   ]
  },
  {
   "cell_type": "code",
   "execution_count": null,
   "id": "325fe1bf",
   "metadata": {},
   "outputs": [],
   "source": []
  },
  {
   "cell_type": "code",
   "execution_count": 36,
   "id": "ddd69799",
   "metadata": {},
   "outputs": [],
   "source": [
    "y_log_preds_ridge = lm_ridge.predict(X_test_tr)\n",
    "y_log_preds_lasso = lm_lasso.predict(X_test_tr)"
   ]
  },
  {
   "cell_type": "code",
   "execution_count": 37,
   "id": "96295a36",
   "metadata": {
    "scrolled": true
   },
   "outputs": [],
   "source": [
    "#print(y_preds)\n",
    "#print(max(y_preds))\n",
    "#print(np.argmax(y_preds))\n",
    "#print(y_preds[np.argmax(y_preds)])\n",
    "#print(X_test.iloc[np.argmax(y_preds)])\n",
    "#print(X_test_tr[np.argmax(y_preds)])"
   ]
  },
  {
   "cell_type": "code",
   "execution_count": 38,
   "id": "f7d29885",
   "metadata": {},
   "outputs": [],
   "source": [
    "y_preds_ridge = np.exp(y_log_preds_ridge) - 1\n",
    "y_preds_lasso = np.exp(y_log_preds_lasso) - 1\n",
    "y_test = np.exp(y_test_log) - 1"
   ]
  },
  {
   "cell_type": "code",
   "execution_count": null,
   "id": "da141fb3",
   "metadata": {},
   "outputs": [],
   "source": []
  },
  {
   "cell_type": "code",
   "execution_count": null,
   "id": "c1608768",
   "metadata": {},
   "outputs": [],
   "source": []
  },
  {
   "cell_type": "code",
   "execution_count": null,
   "id": "ccd5e4cf",
   "metadata": {},
   "outputs": [],
   "source": []
  },
  {
   "cell_type": "code",
   "execution_count": 39,
   "id": "c4211d66",
   "metadata": {},
   "outputs": [],
   "source": [
    "#lrm.coef_"
   ]
  },
  {
   "cell_type": "code",
   "execution_count": null,
   "id": "236553cd",
   "metadata": {},
   "outputs": [],
   "source": []
  },
  {
   "cell_type": "code",
   "execution_count": 59,
   "id": "a36103ef",
   "metadata": {},
   "outputs": [
    {
     "name": "stdout",
     "output_type": "stream",
     "text": [
      "[293.08011924  73.92642328  48.07273737 ... 192.29585578 131.03740627\n",
      " 224.43052896]\n"
     ]
    }
   ],
   "source": []
  },
  {
   "cell_type": "code",
   "execution_count": 40,
   "id": "edf439bd",
   "metadata": {},
   "outputs": [],
   "source": [
    "#plt.scatter(y_preds_ridge,y_test)\n",
    "#plt.scatter(y_preds_lasso,y_test)"
   ]
  },
  {
   "cell_type": "code",
   "execution_count": 64,
   "id": "2dd1cb91",
   "metadata": {},
   "outputs": [
    {
     "data": {
      "text/plain": [
       "<AxesSubplot:title={'center':'Lasso Model Residuals'}, ylabel='log_count'>"
      ]
     },
     "execution_count": 64,
     "metadata": {},
     "output_type": "execute_result"
    },
    {
     "data": {
      "image/png": "[encoded data removed]",
      "text/plain": [
       "<Figure size 864x360 with 2 Axes>"
      ]
     },
     "metadata": {
      "needs_background": "light"
     },
     "output_type": "display_data"
    }
   ],
   "source": [
    "fig = plt.figure(figsize = (12,5))\n",
    "ax1 = plt.subplot(2,2,1) # r, c, fignum\n",
    "ax1.title.set_text('Ridge Model Residuals')\n",
    "#ax1.set(xlabel='Predicted', ylabel='Real')\n",
    "sns.residplot(x = y_preds_ridge, y = y_test)\n",
    "\n",
    "ax2 = plt.subplot(2,2,2) # r, c, fignum\n",
    "ax2.title.set_text('Lasso Model Residuals')\n",
    "#ax2.set(xlabel='Predicted', ylabel='Re')\n",
    "sns.residplot(x = y_preds_lasso, y = y_test)"
   ]
  },
  {
   "cell_type": "code",
   "execution_count": 54,
   "id": "5fa72d5d",
   "metadata": {},
   "outputs": [
    {
     "data": {
      "text/plain": [
       "<AxesSubplot:title={'center':'Lasso Model Predictions'}, xlabel='Predicted', ylabel='Real'>"
      ]
     },
     "execution_count": 54,
     "metadata": {},
     "output_type": "execute_result"
    },
    {
     "data": {
      "image/png": "[encoded data removed]",
      "text/plain": [
       "<Figure size 864x360 with 2 Axes>"
      ]
     },
     "metadata": {
      "needs_background": "light"
     },
     "output_type": "display_data"
    }
   ],
   "source": [
    "#plt.figure(figsize = (12,5))\n",
    "#plt.subplot(2,2,1) # r, c, fignum\n",
    "#sns.scatterplot(y = y_test, x = y_preds_ridge)\n",
    "#plt.subplot(2,2,2) # r, c, fignum\n",
    "#sns.scatterplot(y = y_test, x = y_preds_lasso)\n",
    "\n",
    "\n",
    "fig = plt.figure(figsize = (12,5))\n",
    "ax3 = plt.subplot(2,2,1) # r, c, fignum\n",
    "ax3.title.set_text('Ridge Model Predictions')\n",
    "ax3.set(xlabel='Predicted', ylabel='Real')\n",
    "sns.scatterplot(x = y_preds_ridge, y = y_test)\n",
    "\n",
    "ax4 = plt.subplot(2,2,2) # r, c, fignum\n",
    "ax4.title.set_text('Lasso Model Predictions')\n",
    "ax4.set(xlabel='Predicted', ylabel='Real')\n",
    "sns.scatterplot(x = y_preds_lasso, y = y_test)"
   ]
  },
  {
   "cell_type": "code",
   "execution_count": null,
   "id": "48ce22ce",
   "metadata": {},
   "outputs": [],
   "source": [
    "fig = plt.figure()\n",
    "ax1 = fig.add_subplot(221)\n",
    "ax2 = fig.add_subplot(222)\n",
    "ax3 = fig.add_subplot(223)\n",
    "ax4 = fig.add_subplot(224)\n",
    "ax1.title.set_text('First Plot')\n",
    "ax2.title.set_text('Second Plot')\n",
    "ax3.title.set_text('Third Plot')\n",
    "ax4.title.set_text('Fourth Plot')\n",
    "plt.show()"
   ]
  },
  {
   "cell_type": "code",
   "execution_count": 70,
   "id": "fbd876e9",
   "metadata": {},
   "outputs": [
    {
     "name": "stderr",
     "output_type": "stream",
     "text": [
      "/Users/naimboraatlay/opt/anaconda3/lib/python3.7/site-packages/sklearn/utils/validation.py:72: FutureWarning: Pass param_name=alpha, param_range=[1.e-07 1.e-02 1.e+03] as keyword args. From version 1.0 (renaming of 0.25) passing these as positional arguments will result in an error\n",
      "  \"will result in an error\", FutureWarning)\n",
      "/Users/naimboraatlay/opt/anaconda3/lib/python3.7/site-packages/sklearn/model_selection/_validation.py:614: FitFailedWarning: Estimator fit failed. The score on this train-test partition for these parameters will be set to nan. Details: \n",
      "Traceback (most recent call last):\n",
      "  File \"/Users/naimboraatlay/opt/anaconda3/lib/python3.7/site-packages/sklearn/model_selection/_validation.py\", line 593, in _fit_and_score\n",
      "    estimator.fit(X_train, y_train, **fit_params)\n",
      "  File \"/Users/naimboraatlay/opt/anaconda3/lib/python3.7/site-packages/sklearn/linear_model/_ridge.py\", line 762, in fit\n",
      "    return super().fit(X, y, sample_weight=sample_weight)\n",
      "  File \"/Users/naimboraatlay/opt/anaconda3/lib/python3.7/site-packages/sklearn/linear_model/_ridge.py\", line 545, in fit\n",
      "    multi_output=True, y_numeric=True)\n",
      "  File \"/Users/naimboraatlay/opt/anaconda3/lib/python3.7/site-packages/sklearn/base.py\", line 433, in _validate_data\n",
      "    X, y = check_X_y(X, y, **check_params)\n",
      "  File \"/Users/naimboraatlay/opt/anaconda3/lib/python3.7/site-packages/sklearn/utils/validation.py\", line 63, in inner_f\n",
      "    return f(*args, **kwargs)\n",
      "  File \"/Users/naimboraatlay/opt/anaconda3/lib/python3.7/site-packages/sklearn/utils/validation.py\", line 821, in check_X_y\n",
      "    estimator=estimator)\n",
      "  File \"/Users/naimboraatlay/opt/anaconda3/lib/python3.7/site-packages/sklearn/utils/validation.py\", line 63, in inner_f\n",
      "    return f(*args, **kwargs)\n",
      "  File \"/Users/naimboraatlay/opt/anaconda3/lib/python3.7/site-packages/sklearn/utils/validation.py\", line 616, in check_array\n",
      "    array = np.asarray(array, order=order, dtype=dtype)\n",
      "  File \"/Users/naimboraatlay/opt/anaconda3/lib/python3.7/site-packages/numpy/core/_asarray.py\", line 102, in asarray\n",
      "    return array(a, dtype, copy=False, order=order)\n",
      "  File \"/Users/naimboraatlay/opt/anaconda3/lib/python3.7/site-packages/pandas/core/generic.py\", line 1899, in __array__\n",
      "    return np.asarray(self._values, dtype=dtype)\n",
      "  File \"/Users/naimboraatlay/opt/anaconda3/lib/python3.7/site-packages/numpy/core/_asarray.py\", line 102, in asarray\n",
      "    return array(a, dtype, copy=False, order=order)\n",
      "ValueError: could not convert string to float: 'Tuesday'\n",
      "\n",
      "  FitFailedWarning)\n",
      "/Users/naimboraatlay/opt/anaconda3/lib/python3.7/site-packages/sklearn/model_selection/_validation.py:614: FitFailedWarning: Estimator fit failed. The score on this train-test partition for these parameters will be set to nan. Details: \n",
      "Traceback (most recent call last):\n",
      "  File \"/Users/naimboraatlay/opt/anaconda3/lib/python3.7/site-packages/sklearn/model_selection/_validation.py\", line 593, in _fit_and_score\n",
      "    estimator.fit(X_train, y_train, **fit_params)\n",
      "  File \"/Users/naimboraatlay/opt/anaconda3/lib/python3.7/site-packages/sklearn/linear_model/_ridge.py\", line 762, in fit\n",
      "    return super().fit(X, y, sample_weight=sample_weight)\n",
      "  File \"/Users/naimboraatlay/opt/anaconda3/lib/python3.7/site-packages/sklearn/linear_model/_ridge.py\", line 545, in fit\n",
      "    multi_output=True, y_numeric=True)\n",
      "  File \"/Users/naimboraatlay/opt/anaconda3/lib/python3.7/site-packages/sklearn/base.py\", line 433, in _validate_data\n",
      "    X, y = check_X_y(X, y, **check_params)\n",
      "  File \"/Users/naimboraatlay/opt/anaconda3/lib/python3.7/site-packages/sklearn/utils/validation.py\", line 63, in inner_f\n",
      "    return f(*args, **kwargs)\n",
      "  File \"/Users/naimboraatlay/opt/anaconda3/lib/python3.7/site-packages/sklearn/utils/validation.py\", line 821, in check_X_y\n",
      "    estimator=estimator)\n",
      "  File \"/Users/naimboraatlay/opt/anaconda3/lib/python3.7/site-packages/sklearn/utils/validation.py\", line 63, in inner_f\n",
      "    return f(*args, **kwargs)\n",
      "  File \"/Users/naimboraatlay/opt/anaconda3/lib/python3.7/site-packages/sklearn/utils/validation.py\", line 616, in check_array\n",
      "    array = np.asarray(array, order=order, dtype=dtype)\n",
      "  File \"/Users/naimboraatlay/opt/anaconda3/lib/python3.7/site-packages/numpy/core/_asarray.py\", line 102, in asarray\n",
      "    return array(a, dtype, copy=False, order=order)\n",
      "  File \"/Users/naimboraatlay/opt/anaconda3/lib/python3.7/site-packages/pandas/core/generic.py\", line 1899, in __array__\n",
      "    return np.asarray(self._values, dtype=dtype)\n",
      "  File \"/Users/naimboraatlay/opt/anaconda3/lib/python3.7/site-packages/numpy/core/_asarray.py\", line 102, in asarray\n",
      "    return array(a, dtype, copy=False, order=order)\n",
      "ValueError: could not convert string to float: 'Tuesday'\n",
      "\n",
      "  FitFailedWarning)\n",
      "/Users/naimboraatlay/opt/anaconda3/lib/python3.7/site-packages/sklearn/model_selection/_validation.py:614: FitFailedWarning: Estimator fit failed. The score on this train-test partition for these parameters will be set to nan. Details: \n",
      "Traceback (most recent call last):\n",
      "  File \"/Users/naimboraatlay/opt/anaconda3/lib/python3.7/site-packages/sklearn/model_selection/_validation.py\", line 593, in _fit_and_score\n",
      "    estimator.fit(X_train, y_train, **fit_params)\n",
      "  File \"/Users/naimboraatlay/opt/anaconda3/lib/python3.7/site-packages/sklearn/linear_model/_ridge.py\", line 762, in fit\n",
      "    return super().fit(X, y, sample_weight=sample_weight)\n",
      "  File \"/Users/naimboraatlay/opt/anaconda3/lib/python3.7/site-packages/sklearn/linear_model/_ridge.py\", line 545, in fit\n",
      "    multi_output=True, y_numeric=True)\n",
      "  File \"/Users/naimboraatlay/opt/anaconda3/lib/python3.7/site-packages/sklearn/base.py\", line 433, in _validate_data\n",
      "    X, y = check_X_y(X, y, **check_params)\n",
      "  File \"/Users/naimboraatlay/opt/anaconda3/lib/python3.7/site-packages/sklearn/utils/validation.py\", line 63, in inner_f\n",
      "    return f(*args, **kwargs)\n",
      "  File \"/Users/naimboraatlay/opt/anaconda3/lib/python3.7/site-packages/sklearn/utils/validation.py\", line 821, in check_X_y\n",
      "    estimator=estimator)\n",
      "  File \"/Users/naimboraatlay/opt/anaconda3/lib/python3.7/site-packages/sklearn/utils/validation.py\", line 63, in inner_f\n",
      "    return f(*args, **kwargs)\n",
      "  File \"/Users/naimboraatlay/opt/anaconda3/lib/python3.7/site-packages/sklearn/utils/validation.py\", line 616, in check_array\n",
      "    array = np.asarray(array, order=order, dtype=dtype)\n",
      "  File \"/Users/naimboraatlay/opt/anaconda3/lib/python3.7/site-packages/numpy/core/_asarray.py\", line 102, in asarray\n",
      "    return array(a, dtype, copy=False, order=order)\n",
      "  File \"/Users/naimboraatlay/opt/anaconda3/lib/python3.7/site-packages/pandas/core/generic.py\", line 1899, in __array__\n",
      "    return np.asarray(self._values, dtype=dtype)\n",
      "  File \"/Users/naimboraatlay/opt/anaconda3/lib/python3.7/site-packages/numpy/core/_asarray.py\", line 102, in asarray\n",
      "    return array(a, dtype, copy=False, order=order)\n",
      "ValueError: could not convert string to float: 'Tuesday'\n",
      "\n",
      "  FitFailedWarning)\n",
      "/Users/naimboraatlay/opt/anaconda3/lib/python3.7/site-packages/sklearn/model_selection/_validation.py:614: FitFailedWarning: Estimator fit failed. The score on this train-test partition for these parameters will be set to nan. Details: \n",
      "Traceback (most recent call last):\n",
      "  File \"/Users/naimboraatlay/opt/anaconda3/lib/python3.7/site-packages/sklearn/model_selection/_validation.py\", line 593, in _fit_and_score\n",
      "    estimator.fit(X_train, y_train, **fit_params)\n",
      "  File \"/Users/naimboraatlay/opt/anaconda3/lib/python3.7/site-packages/sklearn/linear_model/_ridge.py\", line 762, in fit\n",
      "    return super().fit(X, y, sample_weight=sample_weight)\n",
      "  File \"/Users/naimboraatlay/opt/anaconda3/lib/python3.7/site-packages/sklearn/linear_model/_ridge.py\", line 545, in fit\n",
      "    multi_output=True, y_numeric=True)\n",
      "  File \"/Users/naimboraatlay/opt/anaconda3/lib/python3.7/site-packages/sklearn/base.py\", line 433, in _validate_data\n",
      "    X, y = check_X_y(X, y, **check_params)\n",
      "  File \"/Users/naimboraatlay/opt/anaconda3/lib/python3.7/site-packages/sklearn/utils/validation.py\", line 63, in inner_f\n",
      "    return f(*args, **kwargs)\n",
      "  File \"/Users/naimboraatlay/opt/anaconda3/lib/python3.7/site-packages/sklearn/utils/validation.py\", line 821, in check_X_y\n",
      "    estimator=estimator)\n",
      "  File \"/Users/naimboraatlay/opt/anaconda3/lib/python3.7/site-packages/sklearn/utils/validation.py\", line 63, in inner_f\n",
      "    return f(*args, **kwargs)\n",
      "  File \"/Users/naimboraatlay/opt/anaconda3/lib/python3.7/site-packages/sklearn/utils/validation.py\", line 616, in check_array\n",
      "    array = np.asarray(array, order=order, dtype=dtype)\n",
      "  File \"/Users/naimboraatlay/opt/anaconda3/lib/python3.7/site-packages/numpy/core/_asarray.py\", line 102, in asarray\n",
      "    return array(a, dtype, copy=False, order=order)\n",
      "  File \"/Users/naimboraatlay/opt/anaconda3/lib/python3.7/site-packages/pandas/core/generic.py\", line 1899, in __array__\n",
      "    return np.asarray(self._values, dtype=dtype)\n",
      "  File \"/Users/naimboraatlay/opt/anaconda3/lib/python3.7/site-packages/numpy/core/_asarray.py\", line 102, in asarray\n",
      "    return array(a, dtype, copy=False, order=order)\n",
      "ValueError: could not convert string to float: 'Saturday'\n",
      "\n",
      "  FitFailedWarning)\n",
      "/Users/naimboraatlay/opt/anaconda3/lib/python3.7/site-packages/sklearn/model_selection/_validation.py:614: FitFailedWarning: Estimator fit failed. The score on this train-test partition for these parameters will be set to nan. Details: \n",
      "Traceback (most recent call last):\n",
      "  File \"/Users/naimboraatlay/opt/anaconda3/lib/python3.7/site-packages/sklearn/model_selection/_validation.py\", line 593, in _fit_and_score\n",
      "    estimator.fit(X_train, y_train, **fit_params)\n",
      "  File \"/Users/naimboraatlay/opt/anaconda3/lib/python3.7/site-packages/sklearn/linear_model/_ridge.py\", line 762, in fit\n",
      "    return super().fit(X, y, sample_weight=sample_weight)\n",
      "  File \"/Users/naimboraatlay/opt/anaconda3/lib/python3.7/site-packages/sklearn/linear_model/_ridge.py\", line 545, in fit\n",
      "    multi_output=True, y_numeric=True)\n",
      "  File \"/Users/naimboraatlay/opt/anaconda3/lib/python3.7/site-packages/sklearn/base.py\", line 433, in _validate_data\n",
      "    X, y = check_X_y(X, y, **check_params)\n",
      "  File \"/Users/naimboraatlay/opt/anaconda3/lib/python3.7/site-packages/sklearn/utils/validation.py\", line 63, in inner_f\n",
      "    return f(*args, **kwargs)\n",
      "  File \"/Users/naimboraatlay/opt/anaconda3/lib/python3.7/site-packages/sklearn/utils/validation.py\", line 821, in check_X_y\n",
      "    estimator=estimator)\n",
      "  File \"/Users/naimboraatlay/opt/anaconda3/lib/python3.7/site-packages/sklearn/utils/validation.py\", line 63, in inner_f\n",
      "    return f(*args, **kwargs)\n",
      "  File \"/Users/naimboraatlay/opt/anaconda3/lib/python3.7/site-packages/sklearn/utils/validation.py\", line 616, in check_array\n",
      "    array = np.asarray(array, order=order, dtype=dtype)\n",
      "  File \"/Users/naimboraatlay/opt/anaconda3/lib/python3.7/site-packages/numpy/core/_asarray.py\", line 102, in asarray\n",
      "    return array(a, dtype, copy=False, order=order)\n",
      "  File \"/Users/naimboraatlay/opt/anaconda3/lib/python3.7/site-packages/pandas/core/generic.py\", line 1899, in __array__\n",
      "    return np.asarray(self._values, dtype=dtype)\n",
      "  File \"/Users/naimboraatlay/opt/anaconda3/lib/python3.7/site-packages/numpy/core/_asarray.py\", line 102, in asarray\n",
      "    return array(a, dtype, copy=False, order=order)\n",
      "ValueError: could not convert string to float: 'Saturday'\n",
      "\n",
      "  FitFailedWarning)\n",
      "/Users/naimboraatlay/opt/anaconda3/lib/python3.7/site-packages/sklearn/model_selection/_validation.py:614: FitFailedWarning: Estimator fit failed. The score on this train-test partition for these parameters will be set to nan. Details: \n",
      "Traceback (most recent call last):\n",
      "  File \"/Users/naimboraatlay/opt/anaconda3/lib/python3.7/site-packages/sklearn/model_selection/_validation.py\", line 593, in _fit_and_score\n",
      "    estimator.fit(X_train, y_train, **fit_params)\n",
      "  File \"/Users/naimboraatlay/opt/anaconda3/lib/python3.7/site-packages/sklearn/linear_model/_ridge.py\", line 762, in fit\n",
      "    return super().fit(X, y, sample_weight=sample_weight)\n",
      "  File \"/Users/naimboraatlay/opt/anaconda3/lib/python3.7/site-packages/sklearn/linear_model/_ridge.py\", line 545, in fit\n",
      "    multi_output=True, y_numeric=True)\n",
      "  File \"/Users/naimboraatlay/opt/anaconda3/lib/python3.7/site-packages/sklearn/base.py\", line 433, in _validate_data\n",
      "    X, y = check_X_y(X, y, **check_params)\n",
      "  File \"/Users/naimboraatlay/opt/anaconda3/lib/python3.7/site-packages/sklearn/utils/validation.py\", line 63, in inner_f\n",
      "    return f(*args, **kwargs)\n",
      "  File \"/Users/naimboraatlay/opt/anaconda3/lib/python3.7/site-packages/sklearn/utils/validation.py\", line 821, in check_X_y\n",
      "    estimator=estimator)\n",
      "  File \"/Users/naimboraatlay/opt/anaconda3/lib/python3.7/site-packages/sklearn/utils/validation.py\", line 63, in inner_f\n",
      "    return f(*args, **kwargs)\n",
      "  File \"/Users/naimboraatlay/opt/anaconda3/lib/python3.7/site-packages/sklearn/utils/validation.py\", line 616, in check_array\n",
      "    array = np.asarray(array, order=order, dtype=dtype)\n",
      "  File \"/Users/naimboraatlay/opt/anaconda3/lib/python3.7/site-packages/numpy/core/_asarray.py\", line 102, in asarray\n",
      "    return array(a, dtype, copy=False, order=order)\n",
      "  File \"/Users/naimboraatlay/opt/anaconda3/lib/python3.7/site-packages/pandas/core/generic.py\", line 1899, in __array__\n",
      "    return np.asarray(self._values, dtype=dtype)\n",
      "  File \"/Users/naimboraatlay/opt/anaconda3/lib/python3.7/site-packages/numpy/core/_asarray.py\", line 102, in asarray\n",
      "    return array(a, dtype, copy=False, order=order)\n",
      "ValueError: could not convert string to float: 'Saturday'\n",
      "\n",
      "  FitFailedWarning)\n",
      "/Users/naimboraatlay/opt/anaconda3/lib/python3.7/site-packages/sklearn/model_selection/_validation.py:614: FitFailedWarning: Estimator fit failed. The score on this train-test partition for these parameters will be set to nan. Details: \n",
      "Traceback (most recent call last):\n",
      "  File \"/Users/naimboraatlay/opt/anaconda3/lib/python3.7/site-packages/sklearn/model_selection/_validation.py\", line 593, in _fit_and_score\n",
      "    estimator.fit(X_train, y_train, **fit_params)\n",
      "  File \"/Users/naimboraatlay/opt/anaconda3/lib/python3.7/site-packages/sklearn/linear_model/_ridge.py\", line 762, in fit\n",
      "    return super().fit(X, y, sample_weight=sample_weight)\n",
      "  File \"/Users/naimboraatlay/opt/anaconda3/lib/python3.7/site-packages/sklearn/linear_model/_ridge.py\", line 545, in fit\n",
      "    multi_output=True, y_numeric=True)\n",
      "  File \"/Users/naimboraatlay/opt/anaconda3/lib/python3.7/site-packages/sklearn/base.py\", line 433, in _validate_data\n",
      "    X, y = check_X_y(X, y, **check_params)\n",
      "  File \"/Users/naimboraatlay/opt/anaconda3/lib/python3.7/site-packages/sklearn/utils/validation.py\", line 63, in inner_f\n",
      "    return f(*args, **kwargs)\n",
      "  File \"/Users/naimboraatlay/opt/anaconda3/lib/python3.7/site-packages/sklearn/utils/validation.py\", line 821, in check_X_y\n",
      "    estimator=estimator)\n",
      "  File \"/Users/naimboraatlay/opt/anaconda3/lib/python3.7/site-packages/sklearn/utils/validation.py\", line 63, in inner_f\n",
      "    return f(*args, **kwargs)\n",
      "  File \"/Users/naimboraatlay/opt/anaconda3/lib/python3.7/site-packages/sklearn/utils/validation.py\", line 616, in check_array\n",
      "    array = np.asarray(array, order=order, dtype=dtype)\n",
      "  File \"/Users/naimboraatlay/opt/anaconda3/lib/python3.7/site-packages/numpy/core/_asarray.py\", line 102, in asarray\n",
      "    return array(a, dtype, copy=False, order=order)\n",
      "  File \"/Users/naimboraatlay/opt/anaconda3/lib/python3.7/site-packages/pandas/core/generic.py\", line 1899, in __array__\n",
      "    return np.asarray(self._values, dtype=dtype)\n",
      "  File \"/Users/naimboraatlay/opt/anaconda3/lib/python3.7/site-packages/numpy/core/_asarray.py\", line 102, in asarray\n",
      "    return array(a, dtype, copy=False, order=order)\n",
      "ValueError: could not convert string to float: 'Saturday'\n",
      "\n",
      "  FitFailedWarning)\n"
     ]
    },
    {
     "name": "stderr",
     "output_type": "stream",
     "text": [
      "/Users/naimboraatlay/opt/anaconda3/lib/python3.7/site-packages/sklearn/model_selection/_validation.py:614: FitFailedWarning: Estimator fit failed. The score on this train-test partition for these parameters will be set to nan. Details: \n",
      "Traceback (most recent call last):\n",
      "  File \"/Users/naimboraatlay/opt/anaconda3/lib/python3.7/site-packages/sklearn/model_selection/_validation.py\", line 593, in _fit_and_score\n",
      "    estimator.fit(X_train, y_train, **fit_params)\n",
      "  File \"/Users/naimboraatlay/opt/anaconda3/lib/python3.7/site-packages/sklearn/linear_model/_ridge.py\", line 762, in fit\n",
      "    return super().fit(X, y, sample_weight=sample_weight)\n",
      "  File \"/Users/naimboraatlay/opt/anaconda3/lib/python3.7/site-packages/sklearn/linear_model/_ridge.py\", line 545, in fit\n",
      "    multi_output=True, y_numeric=True)\n",
      "  File \"/Users/naimboraatlay/opt/anaconda3/lib/python3.7/site-packages/sklearn/base.py\", line 433, in _validate_data\n",
      "    X, y = check_X_y(X, y, **check_params)\n",
      "  File \"/Users/naimboraatlay/opt/anaconda3/lib/python3.7/site-packages/sklearn/utils/validation.py\", line 63, in inner_f\n",
      "    return f(*args, **kwargs)\n",
      "  File \"/Users/naimboraatlay/opt/anaconda3/lib/python3.7/site-packages/sklearn/utils/validation.py\", line 821, in check_X_y\n",
      "    estimator=estimator)\n",
      "  File \"/Users/naimboraatlay/opt/anaconda3/lib/python3.7/site-packages/sklearn/utils/validation.py\", line 63, in inner_f\n",
      "    return f(*args, **kwargs)\n",
      "  File \"/Users/naimboraatlay/opt/anaconda3/lib/python3.7/site-packages/sklearn/utils/validation.py\", line 616, in check_array\n",
      "    array = np.asarray(array, order=order, dtype=dtype)\n",
      "  File \"/Users/naimboraatlay/opt/anaconda3/lib/python3.7/site-packages/numpy/core/_asarray.py\", line 102, in asarray\n",
      "    return array(a, dtype, copy=False, order=order)\n",
      "  File \"/Users/naimboraatlay/opt/anaconda3/lib/python3.7/site-packages/pandas/core/generic.py\", line 1899, in __array__\n",
      "    return np.asarray(self._values, dtype=dtype)\n",
      "  File \"/Users/naimboraatlay/opt/anaconda3/lib/python3.7/site-packages/numpy/core/_asarray.py\", line 102, in asarray\n",
      "    return array(a, dtype, copy=False, order=order)\n",
      "ValueError: could not convert string to float: 'Saturday'\n",
      "\n",
      "  FitFailedWarning)\n",
      "/Users/naimboraatlay/opt/anaconda3/lib/python3.7/site-packages/sklearn/model_selection/_validation.py:614: FitFailedWarning: Estimator fit failed. The score on this train-test partition for these parameters will be set to nan. Details: \n",
      "Traceback (most recent call last):\n",
      "  File \"/Users/naimboraatlay/opt/anaconda3/lib/python3.7/site-packages/sklearn/model_selection/_validation.py\", line 593, in _fit_and_score\n",
      "    estimator.fit(X_train, y_train, **fit_params)\n",
      "  File \"/Users/naimboraatlay/opt/anaconda3/lib/python3.7/site-packages/sklearn/linear_model/_ridge.py\", line 762, in fit\n",
      "    return super().fit(X, y, sample_weight=sample_weight)\n",
      "  File \"/Users/naimboraatlay/opt/anaconda3/lib/python3.7/site-packages/sklearn/linear_model/_ridge.py\", line 545, in fit\n",
      "    multi_output=True, y_numeric=True)\n",
      "  File \"/Users/naimboraatlay/opt/anaconda3/lib/python3.7/site-packages/sklearn/base.py\", line 433, in _validate_data\n",
      "    X, y = check_X_y(X, y, **check_params)\n",
      "  File \"/Users/naimboraatlay/opt/anaconda3/lib/python3.7/site-packages/sklearn/utils/validation.py\", line 63, in inner_f\n",
      "    return f(*args, **kwargs)\n",
      "  File \"/Users/naimboraatlay/opt/anaconda3/lib/python3.7/site-packages/sklearn/utils/validation.py\", line 821, in check_X_y\n",
      "    estimator=estimator)\n",
      "  File \"/Users/naimboraatlay/opt/anaconda3/lib/python3.7/site-packages/sklearn/utils/validation.py\", line 63, in inner_f\n",
      "    return f(*args, **kwargs)\n",
      "  File \"/Users/naimboraatlay/opt/anaconda3/lib/python3.7/site-packages/sklearn/utils/validation.py\", line 616, in check_array\n",
      "    array = np.asarray(array, order=order, dtype=dtype)\n",
      "  File \"/Users/naimboraatlay/opt/anaconda3/lib/python3.7/site-packages/numpy/core/_asarray.py\", line 102, in asarray\n",
      "    return array(a, dtype, copy=False, order=order)\n",
      "  File \"/Users/naimboraatlay/opt/anaconda3/lib/python3.7/site-packages/pandas/core/generic.py\", line 1899, in __array__\n",
      "    return np.asarray(self._values, dtype=dtype)\n",
      "  File \"/Users/naimboraatlay/opt/anaconda3/lib/python3.7/site-packages/numpy/core/_asarray.py\", line 102, in asarray\n",
      "    return array(a, dtype, copy=False, order=order)\n",
      "ValueError: could not convert string to float: 'Saturday'\n",
      "\n",
      "  FitFailedWarning)\n",
      "/Users/naimboraatlay/opt/anaconda3/lib/python3.7/site-packages/sklearn/model_selection/_validation.py:614: FitFailedWarning: Estimator fit failed. The score on this train-test partition for these parameters will be set to nan. Details: \n",
      "Traceback (most recent call last):\n",
      "  File \"/Users/naimboraatlay/opt/anaconda3/lib/python3.7/site-packages/sklearn/model_selection/_validation.py\", line 593, in _fit_and_score\n",
      "    estimator.fit(X_train, y_train, **fit_params)\n",
      "  File \"/Users/naimboraatlay/opt/anaconda3/lib/python3.7/site-packages/sklearn/linear_model/_ridge.py\", line 762, in fit\n",
      "    return super().fit(X, y, sample_weight=sample_weight)\n",
      "  File \"/Users/naimboraatlay/opt/anaconda3/lib/python3.7/site-packages/sklearn/linear_model/_ridge.py\", line 545, in fit\n",
      "    multi_output=True, y_numeric=True)\n",
      "  File \"/Users/naimboraatlay/opt/anaconda3/lib/python3.7/site-packages/sklearn/base.py\", line 433, in _validate_data\n",
      "    X, y = check_X_y(X, y, **check_params)\n",
      "  File \"/Users/naimboraatlay/opt/anaconda3/lib/python3.7/site-packages/sklearn/utils/validation.py\", line 63, in inner_f\n",
      "    return f(*args, **kwargs)\n",
      "  File \"/Users/naimboraatlay/opt/anaconda3/lib/python3.7/site-packages/sklearn/utils/validation.py\", line 821, in check_X_y\n",
      "    estimator=estimator)\n",
      "  File \"/Users/naimboraatlay/opt/anaconda3/lib/python3.7/site-packages/sklearn/utils/validation.py\", line 63, in inner_f\n",
      "    return f(*args, **kwargs)\n",
      "  File \"/Users/naimboraatlay/opt/anaconda3/lib/python3.7/site-packages/sklearn/utils/validation.py\", line 616, in check_array\n",
      "    array = np.asarray(array, order=order, dtype=dtype)\n",
      "  File \"/Users/naimboraatlay/opt/anaconda3/lib/python3.7/site-packages/numpy/core/_asarray.py\", line 102, in asarray\n",
      "    return array(a, dtype, copy=False, order=order)\n",
      "  File \"/Users/naimboraatlay/opt/anaconda3/lib/python3.7/site-packages/pandas/core/generic.py\", line 1899, in __array__\n",
      "    return np.asarray(self._values, dtype=dtype)\n",
      "  File \"/Users/naimboraatlay/opt/anaconda3/lib/python3.7/site-packages/numpy/core/_asarray.py\", line 102, in asarray\n",
      "    return array(a, dtype, copy=False, order=order)\n",
      "ValueError: could not convert string to float: 'Saturday'\n",
      "\n",
      "  FitFailedWarning)\n",
      "/Users/naimboraatlay/opt/anaconda3/lib/python3.7/site-packages/sklearn/model_selection/_validation.py:614: FitFailedWarning: Estimator fit failed. The score on this train-test partition for these parameters will be set to nan. Details: \n",
      "Traceback (most recent call last):\n",
      "  File \"/Users/naimboraatlay/opt/anaconda3/lib/python3.7/site-packages/sklearn/model_selection/_validation.py\", line 593, in _fit_and_score\n",
      "    estimator.fit(X_train, y_train, **fit_params)\n",
      "  File \"/Users/naimboraatlay/opt/anaconda3/lib/python3.7/site-packages/sklearn/linear_model/_ridge.py\", line 762, in fit\n",
      "    return super().fit(X, y, sample_weight=sample_weight)\n",
      "  File \"/Users/naimboraatlay/opt/anaconda3/lib/python3.7/site-packages/sklearn/linear_model/_ridge.py\", line 545, in fit\n",
      "    multi_output=True, y_numeric=True)\n",
      "  File \"/Users/naimboraatlay/opt/anaconda3/lib/python3.7/site-packages/sklearn/base.py\", line 433, in _validate_data\n",
      "    X, y = check_X_y(X, y, **check_params)\n",
      "  File \"/Users/naimboraatlay/opt/anaconda3/lib/python3.7/site-packages/sklearn/utils/validation.py\", line 63, in inner_f\n",
      "    return f(*args, **kwargs)\n",
      "  File \"/Users/naimboraatlay/opt/anaconda3/lib/python3.7/site-packages/sklearn/utils/validation.py\", line 821, in check_X_y\n",
      "    estimator=estimator)\n",
      "  File \"/Users/naimboraatlay/opt/anaconda3/lib/python3.7/site-packages/sklearn/utils/validation.py\", line 63, in inner_f\n",
      "    return f(*args, **kwargs)\n",
      "  File \"/Users/naimboraatlay/opt/anaconda3/lib/python3.7/site-packages/sklearn/utils/validation.py\", line 616, in check_array\n",
      "    array = np.asarray(array, order=order, dtype=dtype)\n",
      "  File \"/Users/naimboraatlay/opt/anaconda3/lib/python3.7/site-packages/numpy/core/_asarray.py\", line 102, in asarray\n",
      "    return array(a, dtype, copy=False, order=order)\n",
      "  File \"/Users/naimboraatlay/opt/anaconda3/lib/python3.7/site-packages/pandas/core/generic.py\", line 1899, in __array__\n",
      "    return np.asarray(self._values, dtype=dtype)\n",
      "  File \"/Users/naimboraatlay/opt/anaconda3/lib/python3.7/site-packages/numpy/core/_asarray.py\", line 102, in asarray\n",
      "    return array(a, dtype, copy=False, order=order)\n",
      "ValueError: could not convert string to float: 'Saturday'\n",
      "\n",
      "  FitFailedWarning)\n"
     ]
    },
    {
     "name": "stderr",
     "output_type": "stream",
     "text": [
      "/Users/naimboraatlay/opt/anaconda3/lib/python3.7/site-packages/sklearn/model_selection/_validation.py:614: FitFailedWarning: Estimator fit failed. The score on this train-test partition for these parameters will be set to nan. Details: \n",
      "Traceback (most recent call last):\n",
      "  File \"/Users/naimboraatlay/opt/anaconda3/lib/python3.7/site-packages/sklearn/model_selection/_validation.py\", line 593, in _fit_and_score\n",
      "    estimator.fit(X_train, y_train, **fit_params)\n",
      "  File \"/Users/naimboraatlay/opt/anaconda3/lib/python3.7/site-packages/sklearn/linear_model/_ridge.py\", line 762, in fit\n",
      "    return super().fit(X, y, sample_weight=sample_weight)\n",
      "  File \"/Users/naimboraatlay/opt/anaconda3/lib/python3.7/site-packages/sklearn/linear_model/_ridge.py\", line 545, in fit\n",
      "    multi_output=True, y_numeric=True)\n",
      "  File \"/Users/naimboraatlay/opt/anaconda3/lib/python3.7/site-packages/sklearn/base.py\", line 433, in _validate_data\n",
      "    X, y = check_X_y(X, y, **check_params)\n",
      "  File \"/Users/naimboraatlay/opt/anaconda3/lib/python3.7/site-packages/sklearn/utils/validation.py\", line 63, in inner_f\n",
      "    return f(*args, **kwargs)\n",
      "  File \"/Users/naimboraatlay/opt/anaconda3/lib/python3.7/site-packages/sklearn/utils/validation.py\", line 821, in check_X_y\n",
      "    estimator=estimator)\n",
      "  File \"/Users/naimboraatlay/opt/anaconda3/lib/python3.7/site-packages/sklearn/utils/validation.py\", line 63, in inner_f\n",
      "    return f(*args, **kwargs)\n",
      "  File \"/Users/naimboraatlay/opt/anaconda3/lib/python3.7/site-packages/sklearn/utils/validation.py\", line 616, in check_array\n",
      "    array = np.asarray(array, order=order, dtype=dtype)\n",
      "  File \"/Users/naimboraatlay/opt/anaconda3/lib/python3.7/site-packages/numpy/core/_asarray.py\", line 102, in asarray\n",
      "    return array(a, dtype, copy=False, order=order)\n",
      "  File \"/Users/naimboraatlay/opt/anaconda3/lib/python3.7/site-packages/pandas/core/generic.py\", line 1899, in __array__\n",
      "    return np.asarray(self._values, dtype=dtype)\n",
      "  File \"/Users/naimboraatlay/opt/anaconda3/lib/python3.7/site-packages/numpy/core/_asarray.py\", line 102, in asarray\n",
      "    return array(a, dtype, copy=False, order=order)\n",
      "ValueError: could not convert string to float: 'Saturday'\n",
      "\n",
      "  FitFailedWarning)\n",
      "/Users/naimboraatlay/opt/anaconda3/lib/python3.7/site-packages/sklearn/model_selection/_validation.py:614: FitFailedWarning: Estimator fit failed. The score on this train-test partition for these parameters will be set to nan. Details: \n",
      "Traceback (most recent call last):\n",
      "  File \"/Users/naimboraatlay/opt/anaconda3/lib/python3.7/site-packages/sklearn/model_selection/_validation.py\", line 593, in _fit_and_score\n",
      "    estimator.fit(X_train, y_train, **fit_params)\n",
      "  File \"/Users/naimboraatlay/opt/anaconda3/lib/python3.7/site-packages/sklearn/linear_model/_ridge.py\", line 762, in fit\n",
      "    return super().fit(X, y, sample_weight=sample_weight)\n",
      "  File \"/Users/naimboraatlay/opt/anaconda3/lib/python3.7/site-packages/sklearn/linear_model/_ridge.py\", line 545, in fit\n",
      "    multi_output=True, y_numeric=True)\n",
      "  File \"/Users/naimboraatlay/opt/anaconda3/lib/python3.7/site-packages/sklearn/base.py\", line 433, in _validate_data\n",
      "    X, y = check_X_y(X, y, **check_params)\n",
      "  File \"/Users/naimboraatlay/opt/anaconda3/lib/python3.7/site-packages/sklearn/utils/validation.py\", line 63, in inner_f\n",
      "    return f(*args, **kwargs)\n",
      "  File \"/Users/naimboraatlay/opt/anaconda3/lib/python3.7/site-packages/sklearn/utils/validation.py\", line 821, in check_X_y\n",
      "    estimator=estimator)\n",
      "  File \"/Users/naimboraatlay/opt/anaconda3/lib/python3.7/site-packages/sklearn/utils/validation.py\", line 63, in inner_f\n",
      "    return f(*args, **kwargs)\n",
      "  File \"/Users/naimboraatlay/opt/anaconda3/lib/python3.7/site-packages/sklearn/utils/validation.py\", line 616, in check_array\n",
      "    array = np.asarray(array, order=order, dtype=dtype)\n",
      "  File \"/Users/naimboraatlay/opt/anaconda3/lib/python3.7/site-packages/numpy/core/_asarray.py\", line 102, in asarray\n",
      "    return array(a, dtype, copy=False, order=order)\n",
      "  File \"/Users/naimboraatlay/opt/anaconda3/lib/python3.7/site-packages/pandas/core/generic.py\", line 1899, in __array__\n",
      "    return np.asarray(self._values, dtype=dtype)\n",
      "  File \"/Users/naimboraatlay/opt/anaconda3/lib/python3.7/site-packages/numpy/core/_asarray.py\", line 102, in asarray\n",
      "    return array(a, dtype, copy=False, order=order)\n",
      "ValueError: could not convert string to float: 'Saturday'\n",
      "\n",
      "  FitFailedWarning)\n",
      "/Users/naimboraatlay/opt/anaconda3/lib/python3.7/site-packages/sklearn/model_selection/_validation.py:614: FitFailedWarning: Estimator fit failed. The score on this train-test partition for these parameters will be set to nan. Details: \n",
      "Traceback (most recent call last):\n",
      "  File \"/Users/naimboraatlay/opt/anaconda3/lib/python3.7/site-packages/sklearn/model_selection/_validation.py\", line 593, in _fit_and_score\n",
      "    estimator.fit(X_train, y_train, **fit_params)\n",
      "  File \"/Users/naimboraatlay/opt/anaconda3/lib/python3.7/site-packages/sklearn/linear_model/_ridge.py\", line 762, in fit\n",
      "    return super().fit(X, y, sample_weight=sample_weight)\n",
      "  File \"/Users/naimboraatlay/opt/anaconda3/lib/python3.7/site-packages/sklearn/linear_model/_ridge.py\", line 545, in fit\n",
      "    multi_output=True, y_numeric=True)\n",
      "  File \"/Users/naimboraatlay/opt/anaconda3/lib/python3.7/site-packages/sklearn/base.py\", line 433, in _validate_data\n",
      "    X, y = check_X_y(X, y, **check_params)\n",
      "  File \"/Users/naimboraatlay/opt/anaconda3/lib/python3.7/site-packages/sklearn/utils/validation.py\", line 63, in inner_f\n",
      "    return f(*args, **kwargs)\n",
      "  File \"/Users/naimboraatlay/opt/anaconda3/lib/python3.7/site-packages/sklearn/utils/validation.py\", line 821, in check_X_y\n",
      "    estimator=estimator)\n",
      "  File \"/Users/naimboraatlay/opt/anaconda3/lib/python3.7/site-packages/sklearn/utils/validation.py\", line 63, in inner_f\n",
      "    return f(*args, **kwargs)\n",
      "  File \"/Users/naimboraatlay/opt/anaconda3/lib/python3.7/site-packages/sklearn/utils/validation.py\", line 616, in check_array\n",
      "    array = np.asarray(array, order=order, dtype=dtype)\n",
      "  File \"/Users/naimboraatlay/opt/anaconda3/lib/python3.7/site-packages/numpy/core/_asarray.py\", line 102, in asarray\n",
      "    return array(a, dtype, copy=False, order=order)\n",
      "  File \"/Users/naimboraatlay/opt/anaconda3/lib/python3.7/site-packages/pandas/core/generic.py\", line 1899, in __array__\n",
      "    return np.asarray(self._values, dtype=dtype)\n",
      "  File \"/Users/naimboraatlay/opt/anaconda3/lib/python3.7/site-packages/numpy/core/_asarray.py\", line 102, in asarray\n",
      "    return array(a, dtype, copy=False, order=order)\n",
      "ValueError: could not convert string to float: 'Saturday'\n",
      "\n",
      "  FitFailedWarning)\n",
      "/Users/naimboraatlay/opt/anaconda3/lib/python3.7/site-packages/sklearn/model_selection/_validation.py:614: FitFailedWarning: Estimator fit failed. The score on this train-test partition for these parameters will be set to nan. Details: \n",
      "Traceback (most recent call last):\n",
      "  File \"/Users/naimboraatlay/opt/anaconda3/lib/python3.7/site-packages/sklearn/model_selection/_validation.py\", line 593, in _fit_and_score\n",
      "    estimator.fit(X_train, y_train, **fit_params)\n",
      "  File \"/Users/naimboraatlay/opt/anaconda3/lib/python3.7/site-packages/sklearn/linear_model/_ridge.py\", line 762, in fit\n",
      "    return super().fit(X, y, sample_weight=sample_weight)\n",
      "  File \"/Users/naimboraatlay/opt/anaconda3/lib/python3.7/site-packages/sklearn/linear_model/_ridge.py\", line 545, in fit\n",
      "    multi_output=True, y_numeric=True)\n",
      "  File \"/Users/naimboraatlay/opt/anaconda3/lib/python3.7/site-packages/sklearn/base.py\", line 433, in _validate_data\n",
      "    X, y = check_X_y(X, y, **check_params)\n",
      "  File \"/Users/naimboraatlay/opt/anaconda3/lib/python3.7/site-packages/sklearn/utils/validation.py\", line 63, in inner_f\n",
      "    return f(*args, **kwargs)\n",
      "  File \"/Users/naimboraatlay/opt/anaconda3/lib/python3.7/site-packages/sklearn/utils/validation.py\", line 821, in check_X_y\n",
      "    estimator=estimator)\n",
      "  File \"/Users/naimboraatlay/opt/anaconda3/lib/python3.7/site-packages/sklearn/utils/validation.py\", line 63, in inner_f\n",
      "    return f(*args, **kwargs)\n",
      "  File \"/Users/naimboraatlay/opt/anaconda3/lib/python3.7/site-packages/sklearn/utils/validation.py\", line 616, in check_array\n",
      "    array = np.asarray(array, order=order, dtype=dtype)\n",
      "  File \"/Users/naimboraatlay/opt/anaconda3/lib/python3.7/site-packages/numpy/core/_asarray.py\", line 102, in asarray\n",
      "    return array(a, dtype, copy=False, order=order)\n",
      "  File \"/Users/naimboraatlay/opt/anaconda3/lib/python3.7/site-packages/pandas/core/generic.py\", line 1899, in __array__\n",
      "    return np.asarray(self._values, dtype=dtype)\n",
      "  File \"/Users/naimboraatlay/opt/anaconda3/lib/python3.7/site-packages/numpy/core/_asarray.py\", line 102, in asarray\n",
      "    return array(a, dtype, copy=False, order=order)\n",
      "ValueError: could not convert string to float: 'Saturday'\n",
      "\n",
      "  FitFailedWarning)\n"
     ]
    }
   ],
   "source": [
    "train_scores, valid_scores = validation_curve(Ridge(), X, y_log, \"alpha\", np.logspace(-7, 3, 3), cv=5)"
   ]
  },
  {
   "cell_type": "markdown",
   "id": "24837983",
   "metadata": {},
   "source": [
    "## "
   ]
  }
 ],
 "metadata": {
  "kernelspec": {
   "display_name": "Python 3",
   "language": "python",
   "name": "python3"
  },
  "language_info": {
   "codemirror_mode": {
    "name": "ipython",
    "version": 3
   },
   "file_extension": ".py",
   "mimetype": "text/x-python",
   "name": "python",
   "nbconvert_exporter": "python",
   "pygments_lexer": "ipython3",
   "version": "3.7.10"
  }
 },
 "nbformat": 4,
 "nbformat_minor": 5
}
