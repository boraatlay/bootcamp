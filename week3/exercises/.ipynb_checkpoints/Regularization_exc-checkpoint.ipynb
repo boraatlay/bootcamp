{
 "cells": [
  {
   "cell_type": "code",
   "execution_count": 1,
   "id": "6b964ea7",
   "metadata": {},
   "outputs": [],
   "source": [
    "### Importing essentials\n",
    "import pandas as pd\n",
    "import numpy as np\n",
    "import matplotlib.pyplot as plt\n",
    "import seaborn as sns\n",
    "\n",
    "### Importing sciKit-learn stuff\n",
    "from sklearn.model_selection import train_test_split\n",
    "from sklearn.linear_model import LogisticRegression\n",
    "from sklearn.linear_model import LinearRegression"
   ]
  },
  {
   "cell_type": "code",
   "execution_count": 2,
   "id": "8b31dd5a",
   "metadata": {},
   "outputs": [],
   "source": [
    "#df = pd.DataFrame(np.array([[1.0, 1.6, 2.0],[1.0, 2.5, 3.0]]),columns=['x', 'y'])\n",
    "#df = pd.DataFrame(np.array([[1, 2, 3], [4, 5, 6], [7, 8, 9]]),columns=['a', 'b', 'c'])\n",
    "df1= {'x':  [1.0,2.5,3],\n",
    "        'y': [1.0,1.6,2.0]}"
   ]
  },
  {
   "cell_type": "code",
   "execution_count": 3,
   "id": "3bc5ceab",
   "metadata": {},
   "outputs": [],
   "source": [
    "df=pd.DataFrame(df1)"
   ]
  },
  {
   "cell_type": "code",
   "execution_count": 4,
   "id": "47c957e8",
   "metadata": {},
   "outputs": [
    {
     "data": {
      "text/html": [
       "<div>\n",
       "<style scoped>\n",
       "    .dataframe tbody tr th:only-of-type {\n",
       "        vertical-align: middle;\n",
       "    }\n",
       "\n",
       "    .dataframe tbody tr th {\n",
       "        vertical-align: top;\n",
       "    }\n",
       "\n",
       "    .dataframe thead th {\n",
       "        text-align: right;\n",
       "    }\n",
       "</style>\n",
       "<table border=\"1\" class=\"dataframe\">\n",
       "  <thead>\n",
       "    <tr style=\"text-align: right;\">\n",
       "      <th></th>\n",
       "      <th>x</th>\n",
       "      <th>y</th>\n",
       "    </tr>\n",
       "  </thead>\n",
       "  <tbody>\n",
       "    <tr>\n",
       "      <th>0</th>\n",
       "      <td>1.0</td>\n",
       "      <td>1.0</td>\n",
       "    </tr>\n",
       "    <tr>\n",
       "      <th>1</th>\n",
       "      <td>2.5</td>\n",
       "      <td>1.6</td>\n",
       "    </tr>\n",
       "    <tr>\n",
       "      <th>2</th>\n",
       "      <td>3.0</td>\n",
       "      <td>2.0</td>\n",
       "    </tr>\n",
       "  </tbody>\n",
       "</table>\n",
       "</div>"
      ],
      "text/plain": [
       "     x    y\n",
       "0  1.0  1.0\n",
       "1  2.5  1.6\n",
       "2  3.0  2.0"
      ]
     },
     "execution_count": 4,
     "metadata": {},
     "output_type": "execute_result"
    }
   ],
   "source": [
    "df"
   ]
  },
  {
   "cell_type": "code",
   "execution_count": 5,
   "id": "10765d85",
   "metadata": {},
   "outputs": [
    {
     "data": {
      "text/plain": [
       "<AxesSubplot:xlabel='x', ylabel='y'>"
      ]
     },
     "execution_count": 5,
     "metadata": {},
     "output_type": "execute_result"
    },
    {
     "data": {
      "image/png": "[encoded data removed]",
      "text/plain": [
       "<Figure size 432x288 with 1 Axes>"
      ]
     },
     "metadata": {
      "needs_background": "light"
     },
     "output_type": "display_data"
    }
   ],
   "source": [
    "sns.scatterplot(data=df,x='x', y='y')"
   ]
  },
  {
   "cell_type": "code",
   "execution_count": 6,
   "id": "3836c517",
   "metadata": {},
   "outputs": [],
   "source": [
    "w_list = [0.5, 2.0]\n",
    "regstr = 1"
   ]
  },
  {
   "cell_type": "code",
   "execution_count": 7,
   "id": "63239adc",
   "metadata": {},
   "outputs": [],
   "source": [
    "y = df['y']\n",
    "x = df['x']"
   ]
  },
  {
   "cell_type": "code",
   "execution_count": 8,
   "id": "8ff93eb1",
   "metadata": {},
   "outputs": [],
   "source": [
    "def CalcLinReg(w, x, y):\n",
    "    \n",
    "    y_preds   = [1.] * len(y)   ### Predicted y values\n",
    "    res_quad  = [1.] * len(y)   ### List of quadratic residuals\n",
    "    \n",
    "    for i in range(len(x)):\n",
    "        y_preds[i] = w[1] * x[i] + w[0]\n",
    "        res_quad[i] = (y_preds[i] - y[i])**2\n",
    "    \n",
    "    return res_quad"
   ]
  },
  {
   "cell_type": "code",
   "execution_count": 9,
   "id": "b687fefc",
   "metadata": {},
   "outputs": [],
   "source": [
    "sumw2 = w_list[0]**2 + w_list[1]**2"
   ]
  },
  {
   "cell_type": "code",
   "execution_count": 10,
   "id": "8ce9d962",
   "metadata": {},
   "outputs": [
    {
     "name": "stdout",
     "output_type": "stream",
     "text": [
      "4.25\n"
     ]
    }
   ],
   "source": [
    "print(sumw2)"
   ]
  },
  {
   "cell_type": "code",
   "execution_count": 11,
   "id": "d90321d3",
   "metadata": {},
   "outputs": [],
   "source": [
    "linreg = sum(CalcLinReg(w_list, x, y)) / len(y)\n",
    "\n",
    "linrid = sum(CalcLinReg(w_list, x, y)) / len(y) + regstr * sumw2"
   ]
  },
  {
   "cell_type": "code",
   "execution_count": 12,
   "id": "0ed76941",
   "metadata": {},
   "outputs": [
    {
     "name": "stdout",
     "output_type": "stream",
     "text": [
      "12.57\n",
      "16.82\n"
     ]
    }
   ],
   "source": [
    "print(linreg)\n",
    "print(linrid)"
   ]
  },
  {
   "cell_type": "code",
   "execution_count": null,
   "id": "ce415be8",
   "metadata": {},
   "outputs": [],
   "source": []
  }
 ],
 "metadata": {
  "kernelspec": {
   "display_name": "Python 3",
   "language": "python",
   "name": "python3"
  },
  "language_info": {
   "codemirror_mode": {
    "name": "ipython",
    "version": 3
   },
   "file_extension": ".py",
   "mimetype": "text/x-python",
   "name": "python",
   "nbconvert_exporter": "python",
   "pygments_lexer": "ipython3",
   "version": "3.7.10"
  }
 },
 "nbformat": 4,
 "nbformat_minor": 5
}
