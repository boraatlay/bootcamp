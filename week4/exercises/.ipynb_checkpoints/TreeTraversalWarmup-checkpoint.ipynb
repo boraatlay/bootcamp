{
 "cells": [
  {
   "cell_type": "code",
   "execution_count": 35,
   "id": "9097e63e",
   "metadata": {},
   "outputs": [],
   "source": [
    "tree = (\n",
    "    ('eucaryotes', (\n",
    "        ('plants', (\n",
    "            ('rose', None),\n",
    "            ('mango tree', None)\n",
    "            )\n",
    "        ),\n",
    "        ('animals', (\n",
    "            ('vertebrates', (\n",
    "                ('fish', (\n",
    "                    ('shark', None),\n",
    "                    ('stingray', None)\n",
    "                    )\n",
    "                ),\n",
    "                ('mammals', (\n",
    "                    ('primates', (\n",
    "                        ('chimp', None),\n",
    "                        ('human', None)\n",
    "                        )\n",
    "                    ),\n",
    "                    ('rat', None)\n",
    "                    )\n",
    "                )\n",
    "                )\n",
    "            ),\n",
    "            ('arthropods', (\n",
    "                ('ant', None),\n",
    "                ('bee', None)\n",
    "                )\n",
    "            )\n",
    "            )\n",
    "        )\n",
    "        )\n",
    "    )\n",
    "    )"
   ]
  },
  {
   "cell_type": "code",
   "execution_count": 36,
   "id": "29ada158",
   "metadata": {},
   "outputs": [
    {
     "data": {
      "text/plain": [
       "tuple"
      ]
     },
     "execution_count": 36,
     "metadata": {},
     "output_type": "execute_result"
    }
   ],
   "source": [
    "type(tree)"
   ]
  },
  {
   "cell_type": "code",
   "execution_count": 37,
   "id": "34a5891a",
   "metadata": {},
   "outputs": [],
   "source": [
    "def traverse_recursively(node):\n",
    "    \n",
    "    left_child = node[0]\n",
    "    right_child = node[1]\n",
    "    \n",
    "    if right_child is None:\n",
    "        print(left_child)\n",
    "    else:\n",
    "        traverse_recursively(right_child[0])\n",
    "        traverse_recursively(right_child[1])\n",
    "    "
   ]
  },
  {
   "cell_type": "code",
   "execution_count": 38,
   "id": "4fd9f6ae",
   "metadata": {},
   "outputs": [
    {
     "name": "stdout",
     "output_type": "stream",
     "text": [
      "rose\n",
      "mango tree\n",
      "shark\n",
      "stingray\n",
      "chimp\n",
      "human\n",
      "rat\n",
      "ant\n",
      "bee\n"
     ]
    }
   ],
   "source": [
    "traverse_recursively(tree)"
   ]
  },
  {
   "cell_type": "code",
   "execution_count": null,
   "id": "311f4d53",
   "metadata": {},
   "outputs": [],
   "source": []
  }
 ],
 "metadata": {
  "kernelspec": {
   "display_name": "Python 3",
   "language": "python",
   "name": "python3"
  },
  "language_info": {
   "codemirror_mode": {
    "name": "ipython",
    "version": 3
   },
   "file_extension": ".py",
   "mimetype": "text/x-python",
   "name": "python",
   "nbconvert_exporter": "python",
   "pygments_lexer": "ipython3",
   "version": "3.7.10"
  }
 },
 "nbformat": 4,
 "nbformat_minor": 5
}
