{
 "cells": [
  {
   "cell_type": "markdown",
   "id": "b4cef015",
   "metadata": {},
   "source": [
    "## Regular Expressions: \n",
    "\n",
    "A sequence of characters that define a specific string search pattern."
   ]
  },
  {
   "cell_type": "markdown",
   "id": "4c9d5cef",
   "metadata": {},
   "source": [
    "| character | meaning |\n",
    "|-----------|---------|\n",
    "| `.` | any character |\n",
    "| `+` | matches the previous token between one and unlimited times, as many times as possible |\n",
    "| `[a-z]` | matches any lowercase letter |\n",
    "| `[0-9]` | matches any number |\n",
    "| `\\w` | matches any alphanumeric character |\n",
    "| `\\|` | logical OR; used to add multiple search patterns together |\n",
    "| `\\` | escape special characters |\n",
    "| `(x)` | match group; extract out whatever you put in parenthesis |\n",
    "| `{x,y}` | matches the previous token between x and y number of times |\n",
    "| `\\s` | matches any whitespace character |\n",
    "| `^`| \"not\" operator, e.g. `[^a-z]+` |"
   ]
  },
  {
   "cell_type": "code",
   "execution_count": 2,
   "id": "db9fa575",
   "metadata": {},
   "outputs": [],
   "source": [
    "import re"
   ]
  },
  {
   "cell_type": "code",
   "execution_count": 3,
   "id": "28cc605b",
   "metadata": {},
   "outputs": [],
   "source": [
    "text = '''\n",
    "thyme <a href=\"coriander99\"> <a href=\"rosemary\"> \n",
    "cinnamon pepper tarragon basil salvia cumin pepper coin\n",
    "<a class=\"lalalala\" href=\"curry\">\n",
    "'''"
   ]
  },
  {
   "cell_type": "code",
   "execution_count": 14,
   "id": "6fb67eb9",
   "metadata": {},
   "outputs": [],
   "source": [
    "results = re.findall('hr.+?>', text)"
   ]
  },
  {
   "cell_type": "code",
   "execution_count": 15,
   "id": "877ffcf6",
   "metadata": {},
   "outputs": [
    {
     "data": {
      "text/plain": [
       "['href=\"coriander99\">', 'href=\"rosemary\">', 'href=\"curry\">']"
      ]
     },
     "execution_count": 15,
     "metadata": {},
     "output_type": "execute_result"
    }
   ],
   "source": [
    "results"
   ]
  },
  {
   "cell_type": "code",
   "execution_count": 18,
   "id": "47300b42",
   "metadata": {},
   "outputs": [],
   "source": [
    "results2 = re.findall('hr.+>', text)"
   ]
  },
  {
   "cell_type": "code",
   "execution_count": 19,
   "id": "9a3f2312",
   "metadata": {},
   "outputs": [
    {
     "data": {
      "text/plain": [
       "['href=\"coriander99\"> <a href=\"rosemary\">', 'href=\"curry\">']"
      ]
     },
     "execution_count": 19,
     "metadata": {},
     "output_type": "execute_result"
    }
   ],
   "source": [
    "results2"
   ]
  },
  {
   "cell_type": "code",
   "execution_count": 28,
   "id": "5b47d5ff",
   "metadata": {},
   "outputs": [],
   "source": [
    "links = 'href=\"(.+)\"'\n",
    "#match any sequence of characters that:\n",
    "# - begins with 'href=\"'\n",
    "# - contains ANY CHARACTER as many times as needed \n",
    "# - ends with double quotes\n",
    "# - the ? makes it \"non-greedy\"\n",
    "# - the (parentheses) extracts a group within the matched text"
   ]
  },
  {
   "cell_type": "code",
   "execution_count": 29,
   "id": "1b0919f1",
   "metadata": {},
   "outputs": [
    {
     "data": {
      "text/plain": [
       "['coriander99\"> <a href=\"rosemary', 'curry']"
      ]
     },
     "execution_count": 29,
     "metadata": {},
     "output_type": "execute_result"
    }
   ],
   "source": [
    "re.findall(links, text)"
   ]
  },
  {
   "cell_type": "code",
   "execution_count": 35,
   "id": "cca46e89",
   "metadata": {},
   "outputs": [],
   "source": [
    "links2 = 'href=\"(.+)'\n",
    "#match any sequence of characters that:\n",
    "# - begins with 'href=\"'\n",
    "# - contains ANY CHARACTER as many times as needed \n",
    "# - ends with double quotes\n",
    "# - the ? makes it \"non-greedy\"\n",
    "# - the (parentheses) extracts a group within the matched text"
   ]
  },
  {
   "cell_type": "code",
   "execution_count": 36,
   "id": "0ef24a9b",
   "metadata": {},
   "outputs": [
    {
     "data": {
      "text/plain": [
       "['coriander99\"> <a href=\"rosemary\"> ', 'curry\">']"
      ]
     },
     "execution_count": 36,
     "metadata": {},
     "output_type": "execute_result"
    }
   ],
   "source": [
    "re.findall(links2, text)"
   ]
  },
  {
   "cell_type": "code",
   "execution_count": null,
   "id": "8b6376e3",
   "metadata": {},
   "outputs": [],
   "source": []
  }
 ],
 "metadata": {
  "kernelspec": {
   "display_name": "Python 3",
   "language": "python",
   "name": "python3"
  },
  "language_info": {
   "codemirror_mode": {
    "name": "ipython",
    "version": 3
   },
   "file_extension": ".py",
   "mimetype": "text/x-python",
   "name": "python",
   "nbconvert_exporter": "python",
   "pygments_lexer": "ipython3",
   "version": "3.7.10"
  }
 },
 "nbformat": 4,
 "nbformat_minor": 5
}
